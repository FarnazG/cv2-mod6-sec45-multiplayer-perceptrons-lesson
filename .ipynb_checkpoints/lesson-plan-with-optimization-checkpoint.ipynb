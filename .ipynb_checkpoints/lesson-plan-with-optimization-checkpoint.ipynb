{
 "cells": [
  {
   "cell_type": "markdown",
   "metadata": {},
   "source": [
    "Most of this code can be found at <a href='https://keras.io'>keras.io</a>"
   ]
  },
  {
   "cell_type": "markdown",
   "metadata": {},
   "source": [
    "# Useful Inputs"
   ]
  },
  {
   "cell_type": "code",
   "execution_count": 1,
   "metadata": {
    "ExecuteTime": {
     "end_time": "2019-06-18T16:18:12.782645Z",
     "start_time": "2019-06-18T16:18:11.185732Z"
    }
   },
   "outputs": [
    {
     "name": "stderr",
     "output_type": "stream",
     "text": [
      "Using TensorFlow backend.\n"
     ]
    }
   ],
   "source": [
    "import keras\n",
    "import numpy as np\n",
    "\n",
    "import matplotlib.pyplot as plt"
   ]
  },
  {
   "cell_type": "code",
   "execution_count": 2,
   "metadata": {
    "ExecuteTime": {
     "end_time": "2019-06-18T16:18:13.087187Z",
     "start_time": "2019-06-18T16:18:13.082385Z"
    }
   },
   "outputs": [],
   "source": [
    "from keras import models\n",
    "from keras import layers\n",
    "from keras import optimizers"
   ]
  },
  {
   "cell_type": "markdown",
   "metadata": {},
   "source": [
    "# Obtaining Dataset & Train-Test Split"
   ]
  },
  {
   "cell_type": "markdown",
   "metadata": {},
   "source": [
    "Nothing different from training other models"
   ]
  },
  {
   "cell_type": "code",
   "execution_count": 3,
   "metadata": {
    "ExecuteTime": {
     "end_time": "2019-06-18T16:18:13.048684Z",
     "start_time": "2019-06-18T16:18:12.784941Z"
    }
   },
   "outputs": [],
   "source": [
    "from sklearn.datasets import load_iris\n",
    "from sklearn.model_selection import train_test_split\n",
    "from sklearn.preprocessing import OneHotEncoder, StandardScaler\n",
    "\n",
    "iris = load_iris()\n",
    "x = iris['data']\n",
    "y = iris['target']\n",
    "names = iris['target_names']\n",
    "feature_names = iris['feature_names']\n",
    "\n",
    "# One hot encoding\n",
    "enc = OneHotEncoder()\n",
    "y = enc.fit_transform(y[:, np.newaxis]).toarray()\n",
    "\n",
    "# Scale data to have mean 0 and variance 1 \n",
    "# which is importance for convergence of the neural network\n",
    "scaler = StandardScaler()\n",
    "x_scaled = scaler.fit_transform(x)\n",
    "\n",
    "# Split the data set into training and testing\n",
    "x_train, x_test, y_train, y_test = train_test_split(x_scaled, y, test_size=0.4, random_state=2)"
   ]
  },
  {
   "cell_type": "markdown",
   "metadata": {},
   "source": [
    "# Creating a Neural Network"
   ]
  },
  {
   "cell_type": "markdown",
   "metadata": {},
   "source": [
    "`Sequential` is referring to the neural networks we've observed. There are other neural network models that will go beyond this class."
   ]
  },
  {
   "cell_type": "code",
   "execution_count": 4,
   "metadata": {
    "ExecuteTime": {
     "end_time": "2019-06-18T16:18:13.126356Z",
     "start_time": "2019-06-18T16:18:13.090188Z"
    }
   },
   "outputs": [
    {
     "name": "stderr",
     "output_type": "stream",
     "text": [
      "WARNING: Logging before flag parsing goes to stderr.\n",
      "W0110 13:45:55.477087 140736002601856 deprecation_wrapper.py:119] From /Users/rafael/anaconda3/envs/flatiron-env/lib/python3.6/site-packages/keras/backend/tensorflow_backend.py:74: The name tf.get_default_graph is deprecated. Please use tf.compat.v1.get_default_graph instead.\n",
      "\n"
     ]
    }
   ],
   "source": [
    "from keras.models import Sequential\n",
    "\n",
    "model = Sequential()"
   ]
  },
  {
   "cell_type": "markdown",
   "metadata": {},
   "source": [
    "The actual network; we can decide how many layers & nodes for each layer here as well as other hyperparameters like the activation function."
   ]
  },
  {
   "cell_type": "code",
   "execution_count": 5,
   "metadata": {
    "ExecuteTime": {
     "end_time": "2019-06-18T19:28:01.843032Z",
     "start_time": "2019-06-18T19:27:59.181321Z"
    }
   },
   "outputs": [
    {
     "name": "stderr",
     "output_type": "stream",
     "text": [
      "W0110 13:45:55.678673 140736002601856 deprecation_wrapper.py:119] From /Users/rafael/anaconda3/envs/flatiron-env/lib/python3.6/site-packages/keras/backend/tensorflow_backend.py:517: The name tf.placeholder is deprecated. Please use tf.compat.v1.placeholder instead.\n",
      "\n",
      "W0110 13:45:55.683121 140736002601856 deprecation_wrapper.py:119] From /Users/rafael/anaconda3/envs/flatiron-env/lib/python3.6/site-packages/keras/backend/tensorflow_backend.py:4138: The name tf.random_uniform is deprecated. Please use tf.random.uniform instead.\n",
      "\n"
     ]
    }
   ],
   "source": [
    "from keras.layers import Dense\n",
    "\n",
    "model.add(Dense(units=4, activation='relu', input_dim=4))\n",
    "model.add(Dense(units=3, activation='softmax'))"
   ]
  },
  {
   "cell_type": "markdown",
   "metadata": {},
   "source": [
    "Compile the model to a form that the computer can more easily work with"
   ]
  },
  {
   "cell_type": "code",
   "execution_count": 6,
   "metadata": {
    "ExecuteTime": {
     "end_time": "2019-06-18T16:18:13.223984Z",
     "start_time": "2019-06-18T16:18:13.187420Z"
    }
   },
   "outputs": [
    {
     "name": "stderr",
     "output_type": "stream",
     "text": [
      "W0110 13:45:56.537764 140736002601856 deprecation_wrapper.py:119] From /Users/rafael/anaconda3/envs/flatiron-env/lib/python3.6/site-packages/keras/optimizers.py:790: The name tf.train.Optimizer is deprecated. Please use tf.compat.v1.train.Optimizer instead.\n",
      "\n",
      "W0110 13:45:56.549209 140736002601856 deprecation_wrapper.py:119] From /Users/rafael/anaconda3/envs/flatiron-env/lib/python3.6/site-packages/keras/backend/tensorflow_backend.py:3295: The name tf.log is deprecated. Please use tf.math.log instead.\n",
      "\n"
     ]
    }
   ],
   "source": [
    "model.compile(loss=keras.losses.categorical_crossentropy, \n",
    "              optimizer=optimizers.SGD(lr=0.001, momentum=0.9, nesterov=True))"
   ]
  },
  {
   "cell_type": "markdown",
   "metadata": {},
   "source": [
    "# Using the Model"
   ]
  },
  {
   "cell_type": "markdown",
   "metadata": {},
   "source": [
    "Using the model structure, we do sequences of feedfoward and then backpropagation to adjust the weights and biases (training/fitting)"
   ]
  },
  {
   "cell_type": "code",
   "execution_count": 7,
   "metadata": {
    "ExecuteTime": {
     "end_time": "2019-06-18T16:18:23.443468Z",
     "start_time": "2019-06-18T16:18:13.227101Z"
    },
    "scrolled": false
   },
   "outputs": [
    {
     "name": "stderr",
     "output_type": "stream",
     "text": [
      "W0110 13:45:57.246567 140736002601856 deprecation.py:323] From /Users/rafael/anaconda3/envs/flatiron-env/lib/python3.6/site-packages/tensorflow/python/ops/math_grad.py:1250: add_dispatch_support.<locals>.wrapper (from tensorflow.python.ops.array_ops) is deprecated and will be removed in a future version.\n",
      "Instructions for updating:\n",
      "Use tf.where in 2.0, which has the same broadcast rule as np.where\n",
      "W0110 13:45:57.426858 140736002601856 deprecation_wrapper.py:119] From /Users/rafael/anaconda3/envs/flatiron-env/lib/python3.6/site-packages/keras/backend/tensorflow_backend.py:986: The name tf.assign_add is deprecated. Please use tf.compat.v1.assign_add instead.\n",
      "\n"
     ]
    },
    {
     "name": "stdout",
     "output_type": "stream",
     "text": [
      "Epoch 1/50\n",
      "90/90 [==============================] - 0s 3ms/step - loss: 1.7537\n",
      "Epoch 2/50\n",
      "90/90 [==============================] - 0s 162us/step - loss: 1.6640\n",
      "Epoch 3/50\n",
      "90/90 [==============================] - 0s 160us/step - loss: 1.5452\n",
      "Epoch 4/50\n",
      "90/90 [==============================] - 0s 146us/step - loss: 1.4281\n",
      "Epoch 5/50\n",
      "90/90 [==============================] - 0s 127us/step - loss: 1.3093\n",
      "Epoch 6/50\n",
      "90/90 [==============================] - 0s 146us/step - loss: 1.2178\n",
      "Epoch 7/50\n",
      "90/90 [==============================] - 0s 158us/step - loss: 1.1303\n",
      "Epoch 8/50\n",
      "90/90 [==============================] - 0s 175us/step - loss: 1.0771\n",
      "Epoch 9/50\n",
      "90/90 [==============================] - 0s 184us/step - loss: 1.0271\n",
      "Epoch 10/50\n",
      "90/90 [==============================] - 0s 149us/step - loss: 0.9889\n",
      "Epoch 11/50\n",
      "90/90 [==============================] - 0s 184us/step - loss: 0.9541\n",
      "Epoch 12/50\n",
      "90/90 [==============================] - 0s 118us/step - loss: 0.9300\n",
      "Epoch 13/50\n",
      "90/90 [==============================] - 0s 157us/step - loss: 0.9075\n",
      "Epoch 14/50\n",
      "90/90 [==============================] - 0s 184us/step - loss: 0.8901\n",
      "Epoch 15/50\n",
      "90/90 [==============================] - 0s 162us/step - loss: 0.8753\n",
      "Epoch 16/50\n",
      "90/90 [==============================] - 0s 238us/step - loss: 0.8610\n",
      "Epoch 17/50\n",
      "90/90 [==============================] - 0s 196us/step - loss: 0.8475\n",
      "Epoch 18/50\n",
      "90/90 [==============================] - 0s 157us/step - loss: 0.8344\n",
      "Epoch 19/50\n",
      "90/90 [==============================] - 0s 151us/step - loss: 0.8217\n",
      "Epoch 20/50\n",
      "90/90 [==============================] - 0s 121us/step - loss: 0.8089\n",
      "Epoch 21/50\n",
      "90/90 [==============================] - 0s 152us/step - loss: 0.7952\n",
      "Epoch 22/50\n",
      "90/90 [==============================] - 0s 121us/step - loss: 0.7810\n",
      "Epoch 23/50\n",
      "90/90 [==============================] - 0s 134us/step - loss: 0.7672\n",
      "Epoch 24/50\n",
      "90/90 [==============================] - 0s 164us/step - loss: 0.7539\n",
      "Epoch 25/50\n",
      "90/90 [==============================] - 0s 131us/step - loss: 0.7399\n",
      "Epoch 26/50\n",
      "90/90 [==============================] - 0s 145us/step - loss: 0.7249\n",
      "Epoch 27/50\n",
      "90/90 [==============================] - 0s 118us/step - loss: 0.7100\n",
      "Epoch 28/50\n",
      "90/90 [==============================] - 0s 169us/step - loss: 0.6940\n",
      "Epoch 29/50\n",
      "90/90 [==============================] - 0s 165us/step - loss: 0.6791\n",
      "Epoch 30/50\n",
      "90/90 [==============================] - 0s 156us/step - loss: 0.6641\n",
      "Epoch 31/50\n",
      "90/90 [==============================] - 0s 146us/step - loss: 0.6502\n",
      "Epoch 32/50\n",
      "90/90 [==============================] - 0s 216us/step - loss: 0.6366\n",
      "Epoch 33/50\n",
      "90/90 [==============================] - 0s 141us/step - loss: 0.6231\n",
      "Epoch 34/50\n",
      "90/90 [==============================] - 0s 142us/step - loss: 0.6099\n",
      "Epoch 35/50\n",
      "90/90 [==============================] - 0s 120us/step - loss: 0.5978\n",
      "Epoch 36/50\n",
      "90/90 [==============================] - 0s 143us/step - loss: 0.5856\n",
      "Epoch 37/50\n",
      "90/90 [==============================] - 0s 129us/step - loss: 0.5743\n",
      "Epoch 38/50\n",
      "90/90 [==============================] - 0s 141us/step - loss: 0.5639\n",
      "Epoch 39/50\n",
      "90/90 [==============================] - 0s 140us/step - loss: 0.5535\n",
      "Epoch 40/50\n",
      "90/90 [==============================] - 0s 154us/step - loss: 0.5446\n",
      "Epoch 41/50\n",
      "90/90 [==============================] - 0s 147us/step - loss: 0.5359\n",
      "Epoch 42/50\n",
      "90/90 [==============================] - 0s 140us/step - loss: 0.5279\n",
      "Epoch 43/50\n",
      "90/90 [==============================] - 0s 121us/step - loss: 0.5202\n",
      "Epoch 44/50\n",
      "90/90 [==============================] - 0s 126us/step - loss: 0.5129\n",
      "Epoch 45/50\n",
      "90/90 [==============================] - 0s 147us/step - loss: 0.5060\n",
      "Epoch 46/50\n",
      "90/90 [==============================] - 0s 126us/step - loss: 0.4995\n",
      "Epoch 47/50\n",
      "90/90 [==============================] - 0s 126us/step - loss: 0.4933\n",
      "Epoch 48/50\n",
      "90/90 [==============================] - 0s 122us/step - loss: 0.4872\n",
      "Epoch 49/50\n",
      "90/90 [==============================] - 0s 108us/step - loss: 0.4812\n",
      "Epoch 50/50\n",
      "90/90 [==============================] - 0s 155us/step - loss: 0.4755\n"
     ]
    }
   ],
   "source": [
    "history = model.fit(x_train, y_train, epochs=50, batch_size=16, verbose=1)"
   ]
  },
  {
   "cell_type": "code",
   "execution_count": 8,
   "metadata": {},
   "outputs": [
    {
     "data": {
      "image/png": "[encoded data removed]",
      "text/plain": [
       "<Figure size 936x576 with 1 Axes>"
      ]
     },
     "metadata": {
      "needs_background": "light"
     },
     "output_type": "display_data"
    }
   ],
   "source": [
    "def plot_history(history, figsize=(13, 8), color='purple', s=50, alpha=0.5):\n",
    "    plt.figure(figsize=figsize)\n",
    "    plt.grid(zorder=0, linestyle='--')\n",
    "    plt.scatter(history.epoch, history.history[\"loss\"], c=color, s=s, alpha=alpha)\n",
    "    plt.xlabel(\"epochs\")\n",
    "    plt.ylabel(\"loss\")\n",
    "    plt.show()\n",
    "    \n",
    "    \n",
    "plot_history(history)"
   ]
  },
  {
   "cell_type": "code",
   "execution_count": 9,
   "metadata": {},
   "outputs": [
    {
     "name": "stdout",
     "output_type": "stream",
     "text": [
      "_________________________________________________________________\n",
      "Layer (type)                 Output Shape              Param #   \n",
      "=================================================================\n",
      "dense_3 (Dense)              (None, 4)                 20        \n",
      "_________________________________________________________________\n",
      "dense_4 (Dense)              (None, 4)                 20        \n",
      "_________________________________________________________________\n",
      "dense_5 (Dense)              (None, 3)                 15        \n",
      "=================================================================\n",
      "Total params: 55\n",
      "Trainable params: 55\n",
      "Non-trainable params: 0\n",
      "_________________________________________________________________\n"
     ]
    }
   ],
   "source": [
    "### Let's build a new model and add another layer\n",
    "model_mlp = Sequential()\n",
    "\n",
    "model_mlp.add(Dense(input_dim=4, units=4, activation='relu'))\n",
    "model_mlp.add(Dense(units=4, activation='relu'))\n",
    "model_mlp.add(Dense(units=3, activation='softmax'))\n",
    "\n",
    "model_mlp.summary()"
   ]
  },
  {
   "cell_type": "code",
   "execution_count": 10,
   "metadata": {},
   "outputs": [
    {
     "data": {
      "text/plain": [
       "<matplotlib.collections.PathCollection at 0x1a3730bd68>"
      ]
     },
     "execution_count": 10,
     "metadata": {},
     "output_type": "execute_result"
    },
    {
     "data": {
      "image/png": "[encoded data removed]",
      "text/plain": [
       "<Figure size 432x288 with 1 Axes>"
      ]
     },
     "metadata": {
      "needs_background": "light"
     },
     "output_type": "display_data"
    }
   ],
   "source": [
    "model_mlp.compile(loss=keras.losses.categorical_crossentropy, \n",
    "              optimizer=optimizers.SGD(lr=0.001, momentum=0.9, nesterov=True))\n",
    "\n",
    "history = model_mlp.fit(x_train, y_train, epochs=100, batch_size=16, verbose=0)\n",
    "plt.scatter(history.epoch, history.history[\"loss\"])"
   ]
  },
  {
   "cell_type": "code",
   "execution_count": 29,
   "metadata": {},
   "outputs": [],
   "source": [
    "optimizer_dict = {\"adam_001\": {\"optimizer\": optimizers.Adam(), \"color\": \"blue\"},\n",
    "                  \"adam_01\": {\"optimizer\": optimizers.Adam(lr=0.01), \"color\": \"orange\"},\n",
    "                  \"sgd_nag\": {\"optimizer\": optimizers.SGD(lr=0.001, momentum=0.9, nesterov=True), \"color\": \"pink\"},\n",
    "                  \"sgd\": {\"optimizer\": optimizers.SGD(lr=0.001), \"color\": \"red\"},\n",
    "                  \"adagrad\": {\"optimizer\": optimizers.Adagrad(), \"color\": \"yellow\"},\n",
    "                  \"adadelta\": {\"optimizer\": optimizers.Adadelta(), \"color\": \"teal\"}}\n",
    "\n",
    "\n",
    "\n",
    "optimizer_dict2 = {\"adam_001\": {\"optimizer\": optimizers.Adam(), \"color\": \"blue\"},\n",
    "                   \"adam_01\": {\"optimizer\": optimizers.Adam(lr=0.01), \"color\": \"orange\"},\n",
    "                   \"adam_1\": {\"optimizer\": optimizers.Adam(lr=0.05), \"color\": \"red\"}}"
   ]
  },
  {
   "cell_type": "code",
   "execution_count": 30,
   "metadata": {},
   "outputs": [
    {
     "name": "stdout",
     "output_type": "stream",
     "text": [
      "Finished fitting adam_001 optimizer\n",
      "Finished fitting adam_01 optimizer\n",
      "Finished fitting adam_1 optimizer\n"
     ]
    }
   ],
   "source": [
    "for label, optimizer in optimizer_dict2.items():\n",
    "    # Build Model\n",
    "    model = Sequential()\n",
    "    model.add(Dense(units=4, activation='relu', input_dim=4))\n",
    "    model.add(Dense(units=3, activation='softmax'))\n",
    "    \n",
    "    # compile model\n",
    "    model.compile(loss=keras.losses.categorical_crossentropy, optimizer=optimizer['optimizer'])\n",
    "    \n",
    "    # train our model and get our history\n",
    "    history = model.fit(x_train, y_train, epochs=100, batch_size=16, verbose=0)\n",
    "    \n",
    "    # store history to our dictionary\n",
    "    optimizer_dict2[label]['history'] = history\n",
    "    print(f\"Finished fitting {label} optimizer\")"
   ]
  },
  {
   "cell_type": "code",
   "execution_count": 31,
   "metadata": {},
   "outputs": [
    {
     "data": {
      "image/png": "[encoded data removed]",
      "text/plain": [
       "<Figure size 1440x720 with 1 Axes>"
      ]
     },
     "metadata": {
      "needs_background": "light"
     },
     "output_type": "display_data"
    }
   ],
   "source": [
    "plt.figure(figsize=(20, 10))\n",
    "for label, optdict in optimizer_dict2.items():\n",
    "    history = optdict['history']\n",
    "    color = optdict[\"color\"]\n",
    "    plt.scatter(history.epoch, history.history[\"loss\"], alpha=0.5, color=color, label=label, s=100)\n",
    "plt.legend()\n",
    "plt.title(\"Loss vs Epoch\\nFor Various Optimizers\")\n",
    "plt.show()"
   ]
  },
  {
   "cell_type": "code",
   "execution_count": 14,
   "metadata": {
    "ExecuteTime": {
     "end_time": "2019-06-18T19:31:59.446967Z",
     "start_time": "2019-06-18T19:31:59.444674Z"
    },
    "scrolled": false
   },
   "outputs": [],
   "source": [
    "# alternatively could have specified a specific batch to train on\n",
    "# model.train_on_batch(x_batch, y_batch)"
   ]
  },
  {
   "cell_type": "markdown",
   "metadata": {},
   "source": [
    "# Evaluating the Trained Model"
   ]
  },
  {
   "cell_type": "markdown",
   "metadata": {},
   "source": [
    "We can look at the overall loss from our test data after training the model was trained"
   ]
  },
  {
   "cell_type": "code",
   "execution_count": 15,
   "metadata": {
    "ExecuteTime": {
     "end_time": "2019-06-18T16:18:23.607022Z",
     "start_time": "2019-06-18T16:18:23.453388Z"
    }
   },
   "outputs": [
    {
     "name": "stdout",
     "output_type": "stream",
     "text": [
      "60/60 [==============================] - 0s 2ms/step\n"
     ]
    },
    {
     "data": {
      "text/plain": [
       "0.45999593337376915"
      ]
     },
     "execution_count": 15,
     "metadata": {},
     "output_type": "execute_result"
    }
   ],
   "source": [
    "# Could also just use a batch to evaluate\n",
    "# loss_and_metrics = model.evaluate(x_test, y_test, batch_size=16)\n",
    "loss_and_metrics = model.evaluate(x_test, y_test)\n",
    "\n",
    "loss_and_metrics"
   ]
  },
  {
   "cell_type": "markdown",
   "metadata": {},
   "source": [
    "We can have predictions (probability the data point is a particular class based on our trained model)"
   ]
  },
  {
   "cell_type": "code",
   "execution_count": 16,
   "metadata": {
    "ExecuteTime": {
     "end_time": "2019-06-18T16:18:23.701142Z",
     "start_time": "2019-06-18T16:18:23.613540Z"
    },
    "scrolled": true
   },
   "outputs": [
    {
     "data": {
      "text/plain": [
       "array([[9.91870165e-01, 4.89544764e-04, 7.64027564e-03],\n",
       "       [9.87217128e-01, 9.30823502e-04, 1.18520688e-02],\n",
       "       [1.43594220e-01, 4.22444522e-01, 4.33961302e-01],\n",
       "       [9.88276660e-01, 1.02297112e-03, 1.07003497e-02],\n",
       "       [9.94757414e-01, 3.79149336e-04, 4.86352481e-03],\n",
       "       [1.59799784e-01, 2.46332377e-01, 5.93867838e-01],\n",
       "       [9.79091346e-01, 2.53083766e-03, 1.83777958e-02],\n",
       "       [1.26570597e-01, 2.11920783e-01, 6.61508620e-01],\n",
       "       [1.37988880e-01, 2.96990871e-01, 5.65020263e-01],\n",
       "       [9.68538761e-01, 3.34281777e-03, 2.81184390e-02],\n",
       "       [9.97465491e-01, 2.19659836e-04, 2.31492636e-03],\n",
       "       [9.91338611e-01, 4.52200155e-04, 8.20926949e-03],\n",
       "       [9.88781989e-01, 1.07399863e-03, 1.01439683e-02],\n",
       "       [9.96240973e-01, 3.78311641e-04, 3.38082085e-03],\n",
       "       [1.49244443e-01, 5.23654044e-01, 3.27101469e-01],\n",
       "       [1.38124809e-01, 2.98453867e-01, 5.63421309e-01],\n",
       "       [8.85912120e-01, 2.72008423e-02, 8.68869796e-02],\n",
       "       [1.40967950e-01, 5.11697769e-01, 3.47334296e-01],\n",
       "       [1.33552015e-01, 2.57192612e-01, 6.09255373e-01],\n",
       "       [1.40967950e-01, 5.11697769e-01, 3.47334296e-01],\n",
       "       [1.36218816e-01, 2.79505342e-01, 5.84275842e-01],\n",
       "       [1.42756984e-01, 3.72644395e-01, 4.84598637e-01],\n",
       "       [1.40768394e-01, 3.32246929e-01, 5.26984632e-01],\n",
       "       [1.40967950e-01, 5.11697769e-01, 3.47334296e-01],\n",
       "       [1.34113491e-01, 2.61575520e-01, 6.04310989e-01],\n",
       "       [9.90343809e-01, 7.22471625e-04, 8.93364567e-03],\n",
       "       [9.90200698e-01, 7.00563774e-04, 9.09875333e-03],\n",
       "       [1.43250272e-01, 4.54278648e-01, 4.02470976e-01],\n",
       "       [9.95505810e-01, 3.75995616e-04, 4.11819341e-03],\n",
       "       [1.68633983e-01, 2.75681704e-01, 5.55684328e-01],\n",
       "       [1.41981423e-01, 3.53798985e-01, 5.04219592e-01],\n",
       "       [9.63063776e-01, 5.13336668e-03, 3.18029635e-02],\n",
       "       [1.40967950e-01, 5.11697769e-01, 3.47334296e-01],\n",
       "       [2.39239678e-01, 3.02318811e-01, 4.58441585e-01],\n",
       "       [1.40967950e-01, 5.11697769e-01, 3.47334296e-01],\n",
       "       [9.98778045e-01, 1.28386222e-04, 1.09355769e-03],\n",
       "       [1.36018887e-01, 2.77685970e-01, 5.86295187e-01],\n",
       "       [1.40967950e-01, 5.11697769e-01, 3.47334296e-01],\n",
       "       [1.41676188e-01, 4.98562247e-01, 3.59761596e-01],\n",
       "       [1.15038924e-01, 1.58550307e-01, 7.26410806e-01],\n",
       "       [1.42040282e-01, 4.90860909e-01, 3.67098778e-01],\n",
       "       [1.43435165e-01, 4.43940431e-01, 4.12624300e-01],\n",
       "       [1.33530155e-01, 2.57025003e-01, 6.09444797e-01],\n",
       "       [1.54458299e-01, 5.07939875e-01, 3.37601840e-01],\n",
       "       [9.94678617e-01, 3.67675879e-04, 4.95373411e-03],\n",
       "       [1.41665220e-01, 4.98782277e-01, 3.59552562e-01],\n",
       "       [9.93599057e-01, 6.46062428e-04, 5.75493695e-03],\n",
       "       [1.64551318e-01, 3.41026276e-01, 4.94422406e-01],\n",
       "       [9.95562553e-01, 3.69996851e-04, 4.06737020e-03],\n",
       "       [9.95383084e-01, 4.32608300e-04, 4.18429123e-03],\n",
       "       [9.94646132e-01, 6.56924560e-04, 4.69700433e-03],\n",
       "       [1.40967950e-01, 5.11697769e-01, 3.47334296e-01],\n",
       "       [1.42914474e-01, 4.67433363e-01, 3.89652133e-01],\n",
       "       [2.72687912e-01, 2.78094918e-01, 4.49217170e-01],\n",
       "       [9.93055880e-01, 8.92121985e-04, 6.05207542e-03],\n",
       "       [1.28538236e-01, 2.23289743e-01, 6.48172081e-01],\n",
       "       [1.43581882e-01, 4.28161502e-01, 4.28256631e-01],\n",
       "       [1.04397379e-01, 1.14695139e-01, 7.80907452e-01],\n",
       "       [1.41463041e-01, 3.43804300e-01, 5.14732659e-01],\n",
       "       [9.90337849e-01, 4.78371570e-04, 9.18385852e-03]], dtype=float32)"
      ]
     },
     "execution_count": 16,
     "metadata": {},
     "output_type": "execute_result"
    }
   ],
   "source": [
    "probs = model.predict(x_test)\n",
    "probs"
   ]
  },
  {
   "cell_type": "code",
   "execution_count": null,
   "metadata": {},
   "outputs": [],
   "source": []
  },
  {
   "cell_type": "markdown",
   "metadata": {},
   "source": [
    "We want to say what is the predicted class, so we pick just the largest probability for each result"
   ]
  },
  {
   "cell_type": "code",
   "execution_count": 19,
   "metadata": {
    "ExecuteTime": {
     "end_time": "2019-06-18T16:18:23.706830Z",
     "start_time": "2019-06-18T16:18:23.703922Z"
    }
   },
   "outputs": [
    {
     "data": {
      "text/plain": [
       "array([0, 0, 2, 0, 0, 2, 0, 2, 2, 0, 0, 0, 0, 0, 1, 2, 0, 1, 2, 1, 2, 2,\n",
       "       2, 1, 2, 0, 0, 1, 0, 2, 2, 0, 1, 2, 1, 0, 2, 1, 1, 2, 1, 1, 2, 1,\n",
       "       0, 1, 0, 2, 0, 0, 0, 1, 1, 2, 0, 2, 2, 2, 2, 0])"
      ]
     },
     "execution_count": 19,
     "metadata": {},
     "output_type": "execute_result"
    }
   ],
   "source": [
    "predictions = np.argmax(probs, axis=1)\n",
    "\n",
    "predictions"
   ]
  },
  {
   "cell_type": "markdown",
   "metadata": {},
   "source": [
    "Finally, we can see how accurate our model was by seeing if the predicted classes match the actual labels. Note that this is calculated differently from how the loss is calculated."
   ]
  },
  {
   "cell_type": "code",
   "execution_count": 20,
   "metadata": {
    "ExecuteTime": {
     "end_time": "2019-06-18T16:18:23.715400Z",
     "start_time": "2019-06-18T16:18:23.708557Z"
    }
   },
   "outputs": [
    {
     "data": {
      "text/plain": [
       "array([0.85])"
      ]
     },
     "execution_count": 20,
     "metadata": {},
     "output_type": "execute_result"
    }
   ],
   "source": [
    "np.sum(predictions  == np.argmax(y_test, axis=1)) / predictions.shape"
   ]
  },
  {
   "cell_type": "markdown",
   "metadata": {},
   "source": [
    "### But Behold!!!! An out of the box RFC comes into the fold! "
   ]
  },
  {
   "cell_type": "code",
   "execution_count": 21,
   "metadata": {},
   "outputs": [],
   "source": [
    "from sklearn.ensemble import RandomForestClassifier"
   ]
  },
  {
   "cell_type": "code",
   "execution_count": 22,
   "metadata": {},
   "outputs": [],
   "source": [
    "clf = RandomForestClassifier()"
   ]
  },
  {
   "cell_type": "code",
   "execution_count": 23,
   "metadata": {},
   "outputs": [
    {
     "data": {
      "text/plain": [
       "RandomForestClassifier(bootstrap=True, ccp_alpha=0.0, class_weight=None,\n",
       "                       criterion='gini', max_depth=None, max_features='auto',\n",
       "                       max_leaf_nodes=None, max_samples=None,\n",
       "                       min_impurity_decrease=0.0, min_impurity_split=None,\n",
       "                       min_samples_leaf=1, min_samples_split=2,\n",
       "                       min_weight_fraction_leaf=0.0, n_estimators=100,\n",
       "                       n_jobs=None, oob_score=False, random_state=None,\n",
       "                       verbose=0, warm_start=False)"
      ]
     },
     "execution_count": 23,
     "metadata": {},
     "output_type": "execute_result"
    }
   ],
   "source": [
    "clf.fit(x_train, y_train)"
   ]
  },
  {
   "cell_type": "code",
   "execution_count": 24,
   "metadata": {},
   "outputs": [
    {
     "data": {
      "text/plain": [
       "0.9333333333333333"
      ]
     },
     "execution_count": 24,
     "metadata": {},
     "output_type": "execute_result"
    }
   ],
   "source": [
    "clf.score(x_test, y_test)"
   ]
  },
  {
   "cell_type": "code",
   "execution_count": null,
   "metadata": {},
   "outputs": [],
   "source": []
  }
 ],
 "metadata": {
  "kernelspec": {
   "display_name": "Python [conda env:flatiron-env] *",
   "language": "python",
   "name": "conda-env-flatiron-env-py"
  },
  "language_info": {
   "codemirror_mode": {
    "name": "ipython",
    "version": 3
   },
   "file_extension": ".py",
   "mimetype": "text/x-python",
   "name": "python",
   "nbconvert_exporter": "python",
   "pygments_lexer": "ipython3",
   "version": "3.6.0"
  },
  "toc": {
   "base_numbering": 1,
   "nav_menu": {},
   "number_sections": true,
   "sideBar": true,
   "skip_h1_title": false,
   "title_cell": "Table of Contents",
   "title_sidebar": "Contents",
   "toc_cell": false,
   "toc_position": {},
   "toc_section_display": true,
   "toc_window_display": false
  },
  "varInspector": {
   "cols": {
    "lenName": 16,
    "lenType": 16,
    "lenVar": 40
   },
   "kernels_config": {
    "python": {
     "delete_cmd_postfix": "",
     "delete_cmd_prefix": "del ",
     "library": "var_list.py",
     "varRefreshCmd": "print(var_dic_list())"
    },
    "r": {
     "delete_cmd_postfix": ") ",
     "delete_cmd_prefix": "rm(",
     "library": "var_list.r",
     "varRefreshCmd": "cat(var_dic_list()) "
    }
   },
   "types_to_exclude": [
    "module",
    "function",
    "builtin_function_or_method",
    "instance",
    "_Feature"
   ],
   "window_display": false
  }
 },
 "nbformat": 4,
 "nbformat_minor": 2
}
