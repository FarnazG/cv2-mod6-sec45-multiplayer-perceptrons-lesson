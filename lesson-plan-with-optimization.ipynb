{
 "cells": [
  {
   "cell_type": "markdown",
   "metadata": {},
   "source": [
    "Most of this code can be found at <a href='https://keras.io'>keras.io</a>"
   ]
  },
  {
   "cell_type": "markdown",
   "metadata": {},
   "source": [
    "# Useful Inputs"
   ]
  },
  {
   "cell_type": "code",
   "execution_count": 1,
   "metadata": {
    "ExecuteTime": {
     "end_time": "2019-06-18T16:18:12.782645Z",
     "start_time": "2019-06-18T16:18:11.185732Z"
    }
   },
   "outputs": [
    {
     "name": "stderr",
     "output_type": "stream",
     "text": [
      "Using TensorFlow backend.\n"
     ]
    }
   ],
   "source": [
    "import keras\n",
    "import numpy as np\n",
    "\n",
    "import matplotlib.pyplot as plt"
   ]
  },
  {
   "cell_type": "code",
   "execution_count": 2,
   "metadata": {
    "ExecuteTime": {
     "end_time": "2019-06-18T16:18:13.087187Z",
     "start_time": "2019-06-18T16:18:13.082385Z"
    }
   },
   "outputs": [],
   "source": [
    "from keras import models\n",
    "from keras import layers\n",
    "from keras import optimizers"
   ]
  },
  {
   "cell_type": "markdown",
   "metadata": {},
   "source": [
    "# Obtaining Dataset & Train-Test Split"
   ]
  },
  {
   "cell_type": "markdown",
   "metadata": {},
   "source": [
    "Nothing different from training other models"
   ]
  },
  {
   "cell_type": "code",
   "execution_count": 3,
   "metadata": {
    "ExecuteTime": {
     "end_time": "2019-06-18T16:18:13.048684Z",
     "start_time": "2019-06-18T16:18:12.784941Z"
    }
   },
   "outputs": [
    {
     "name": "stderr",
     "output_type": "stream",
     "text": [
      "/Users/rafael/anaconda3/envs/flatiron-env/lib/python3.6/site-packages/sklearn/preprocessing/_encoders.py:415: FutureWarning: The handling of integer data will change in version 0.22. Currently, the categories are determined based on the range [0, max(values)], while in the future they will be determined based on the unique values.\n",
      "If you want the future behaviour and silence this warning, you can specify \"categories='auto'\".\n",
      "In case you used a LabelEncoder before this OneHotEncoder to convert the categories to integers, then you can now use the OneHotEncoder directly.\n",
      "  warnings.warn(msg, FutureWarning)\n"
     ]
    }
   ],
   "source": [
    "from sklearn.datasets import load_iris\n",
    "from sklearn.model_selection import train_test_split\n",
    "from sklearn.preprocessing import OneHotEncoder, StandardScaler\n",
    "\n",
    "iris = load_iris()\n",
    "x = iris['data']\n",
    "y = iris['target']\n",
    "names = iris['target_names']\n",
    "feature_names = iris['feature_names']\n",
    "\n",
    "# One hot encoding\n",
    "enc = OneHotEncoder()\n",
    "y = enc.fit_transform(y[:, np.newaxis]).toarray()\n",
    "\n",
    "# Scale data to have mean 0 and variance 1 \n",
    "# which is importance for convergence of the neural network\n",
    "scaler = StandardScaler()\n",
    "x_scaled = scaler.fit_transform(x)\n",
    "\n",
    "# Split the data set into training and testing\n",
    "x_train, x_test, y_train, y_test = train_test_split(x_scaled, y, test_size=0.4, random_state=2)"
   ]
  },
  {
   "cell_type": "markdown",
   "metadata": {},
   "source": [
    "# Creating a Neural Network"
   ]
  },
  {
   "cell_type": "markdown",
   "metadata": {},
   "source": [
    "`Sequential` is referring to the neural networks we've observed. There are other neural network models that will go beyond this class."
   ]
  },
  {
   "cell_type": "code",
   "execution_count": 4,
   "metadata": {
    "ExecuteTime": {
     "end_time": "2019-06-18T16:18:13.126356Z",
     "start_time": "2019-06-18T16:18:13.090188Z"
    }
   },
   "outputs": [
    {
     "name": "stderr",
     "output_type": "stream",
     "text": [
      "WARNING: Logging before flag parsing goes to stderr.\n",
      "W0830 14:56:06.453001 140735565874048 deprecation_wrapper.py:119] From /Users/rafael/anaconda3/envs/flatiron-env/lib/python3.6/site-packages/keras/backend/tensorflow_backend.py:74: The name tf.get_default_graph is deprecated. Please use tf.compat.v1.get_default_graph instead.\n",
      "\n"
     ]
    }
   ],
   "source": [
    "from keras.models import Sequential\n",
    "\n",
    "model = Sequential()"
   ]
  },
  {
   "cell_type": "markdown",
   "metadata": {},
   "source": [
    "The actual network; we can decide how many layers & nodes for each layer here as well as other hyperparameters like the activation function."
   ]
  },
  {
   "cell_type": "code",
   "execution_count": 5,
   "metadata": {
    "ExecuteTime": {
     "end_time": "2019-06-18T19:28:01.843032Z",
     "start_time": "2019-06-18T19:27:59.181321Z"
    }
   },
   "outputs": [
    {
     "name": "stderr",
     "output_type": "stream",
     "text": [
      "W0830 14:56:07.711905 140735565874048 deprecation_wrapper.py:119] From /Users/rafael/anaconda3/envs/flatiron-env/lib/python3.6/site-packages/keras/backend/tensorflow_backend.py:517: The name tf.placeholder is deprecated. Please use tf.compat.v1.placeholder instead.\n",
      "\n",
      "W0830 14:56:07.718756 140735565874048 deprecation_wrapper.py:119] From /Users/rafael/anaconda3/envs/flatiron-env/lib/python3.6/site-packages/keras/backend/tensorflow_backend.py:4138: The name tf.random_uniform is deprecated. Please use tf.random.uniform instead.\n",
      "\n"
     ]
    }
   ],
   "source": [
    "from keras.layers import Dense\n",
    "\n",
    "model.add(Dense(units=4, activation='relu', input_dim=4))\n",
    "model.add(Dense(units=3, activation='softmax'))"
   ]
  },
  {
   "cell_type": "markdown",
   "metadata": {},
   "source": [
    "Compile the model to a form that the computer can more easily work with"
   ]
  },
  {
   "cell_type": "code",
   "execution_count": 6,
   "metadata": {
    "ExecuteTime": {
     "end_time": "2019-06-18T16:18:13.223984Z",
     "start_time": "2019-06-18T16:18:13.187420Z"
    }
   },
   "outputs": [
    {
     "name": "stderr",
     "output_type": "stream",
     "text": [
      "W0830 14:56:13.423787 140735565874048 deprecation_wrapper.py:119] From /Users/rafael/anaconda3/envs/flatiron-env/lib/python3.6/site-packages/keras/optimizers.py:790: The name tf.train.Optimizer is deprecated. Please use tf.compat.v1.train.Optimizer instead.\n",
      "\n",
      "W0830 14:56:13.435834 140735565874048 deprecation_wrapper.py:119] From /Users/rafael/anaconda3/envs/flatiron-env/lib/python3.6/site-packages/keras/backend/tensorflow_backend.py:3295: The name tf.log is deprecated. Please use tf.math.log instead.\n",
      "\n"
     ]
    }
   ],
   "source": [
    "model.compile(loss=keras.losses.categorical_crossentropy, \n",
    "              optimizer=optimizers.SGD(lr=0.001, momentum=0.9, nesterov=True))"
   ]
  },
  {
   "cell_type": "markdown",
   "metadata": {},
   "source": [
    "# Using the Model"
   ]
  },
  {
   "cell_type": "markdown",
   "metadata": {},
   "source": [
    "Using the model structure, we do sequences of feedfoward and then backpropagation to adjust the weights and biases (training/fitting)"
   ]
  },
  {
   "cell_type": "code",
   "execution_count": 7,
   "metadata": {
    "ExecuteTime": {
     "end_time": "2019-06-18T16:18:23.443468Z",
     "start_time": "2019-06-18T16:18:13.227101Z"
    },
    "scrolled": false
   },
   "outputs": [
    {
     "name": "stderr",
     "output_type": "stream",
     "text": [
      "W0830 14:56:19.468273 140735565874048 deprecation.py:323] From /Users/rafael/anaconda3/envs/flatiron-env/lib/python3.6/site-packages/tensorflow/python/ops/math_grad.py:1250: add_dispatch_support.<locals>.wrapper (from tensorflow.python.ops.array_ops) is deprecated and will be removed in a future version.\n",
      "Instructions for updating:\n",
      "Use tf.where in 2.0, which has the same broadcast rule as np.where\n",
      "W0830 14:56:19.545871 140735565874048 deprecation_wrapper.py:119] From /Users/rafael/anaconda3/envs/flatiron-env/lib/python3.6/site-packages/keras/backend/tensorflow_backend.py:986: The name tf.assign_add is deprecated. Please use tf.compat.v1.assign_add instead.\n",
      "\n"
     ]
    },
    {
     "name": "stdout",
     "output_type": "stream",
     "text": [
      "Epoch 1/50\n",
      "90/90 [==============================] - 0s 4ms/step - loss: 1.0533\n",
      "Epoch 2/50\n",
      "90/90 [==============================] - 0s 126us/step - loss: 1.0428\n",
      "Epoch 3/50\n",
      "90/90 [==============================] - 0s 102us/step - loss: 1.0274\n",
      "Epoch 4/50\n",
      "90/90 [==============================] - 0s 142us/step - loss: 1.0108\n",
      "Epoch 5/50\n",
      "90/90 [==============================] - 0s 110us/step - loss: 0.9927\n",
      "Epoch 6/50\n",
      "90/90 [==============================] - 0s 148us/step - loss: 0.9758\n",
      "Epoch 7/50\n",
      "90/90 [==============================] - 0s 119us/step - loss: 0.9590\n",
      "Epoch 8/50\n",
      "90/90 [==============================] - 0s 108us/step - loss: 0.9417\n",
      "Epoch 9/50\n",
      "90/90 [==============================] - 0s 150us/step - loss: 0.9260\n",
      "Epoch 10/50\n",
      "90/90 [==============================] - 0s 118us/step - loss: 0.9112\n",
      "Epoch 11/50\n",
      "90/90 [==============================] - 0s 117us/step - loss: 0.8965\n",
      "Epoch 12/50\n",
      "90/90 [==============================] - 0s 143us/step - loss: 0.8828\n",
      "Epoch 13/50\n",
      "90/90 [==============================] - 0s 107us/step - loss: 0.8694\n",
      "Epoch 14/50\n",
      "90/90 [==============================] - 0s 144us/step - loss: 0.8556\n",
      "Epoch 15/50\n",
      "90/90 [==============================] - 0s 213us/step - loss: 0.8431\n",
      "Epoch 16/50\n",
      "90/90 [==============================] - 0s 188us/step - loss: 0.8302\n",
      "Epoch 17/50\n",
      "90/90 [==============================] - 0s 188us/step - loss: 0.8176\n",
      "Epoch 18/50\n",
      "90/90 [==============================] - 0s 128us/step - loss: 0.8053\n",
      "Epoch 19/50\n",
      "90/90 [==============================] - 0s 123us/step - loss: 0.7936\n",
      "Epoch 20/50\n",
      "90/90 [==============================] - 0s 108us/step - loss: 0.7811\n",
      "Epoch 21/50\n",
      "90/90 [==============================] - 0s 137us/step - loss: 0.7695\n",
      "Epoch 22/50\n",
      "90/90 [==============================] - 0s 119us/step - loss: 0.7584\n",
      "Epoch 23/50\n",
      "90/90 [==============================] - 0s 196us/step - loss: 0.7471\n",
      "Epoch 24/50\n",
      "90/90 [==============================] - 0s 110us/step - loss: 0.7363\n",
      "Epoch 25/50\n",
      "90/90 [==============================] - 0s 174us/step - loss: 0.7260\n",
      "Epoch 26/50\n",
      "90/90 [==============================] - 0s 220us/step - loss: 0.7152\n",
      "Epoch 27/50\n",
      "90/90 [==============================] - 0s 176us/step - loss: 0.7053\n",
      "Epoch 28/50\n",
      "90/90 [==============================] - 0s 175us/step - loss: 0.6954\n",
      "Epoch 29/50\n",
      "90/90 [==============================] - 0s 103us/step - loss: 0.6856\n",
      "Epoch 30/50\n",
      "90/90 [==============================] - 0s 197us/step - loss: 0.6761\n",
      "Epoch 31/50\n",
      "90/90 [==============================] - 0s 128us/step - loss: 0.6669\n",
      "Epoch 32/50\n",
      "90/90 [==============================] - 0s 185us/step - loss: 0.6578\n",
      "Epoch 33/50\n",
      "90/90 [==============================] - 0s 160us/step - loss: 0.6493\n",
      "Epoch 34/50\n",
      "90/90 [==============================] - 0s 122us/step - loss: 0.6401\n",
      "Epoch 35/50\n",
      "90/90 [==============================] - 0s 176us/step - loss: 0.6321\n",
      "Epoch 36/50\n",
      "90/90 [==============================] - 0s 147us/step - loss: 0.6239\n",
      "Epoch 37/50\n",
      "90/90 [==============================] - 0s 143us/step - loss: 0.6163\n",
      "Epoch 38/50\n",
      "90/90 [==============================] - 0s 139us/step - loss: 0.6084\n",
      "Epoch 39/50\n",
      "90/90 [==============================] - 0s 147us/step - loss: 0.6011\n",
      "Epoch 40/50\n",
      "90/90 [==============================] - 0s 220us/step - loss: 0.5937\n",
      "Epoch 41/50\n",
      "90/90 [==============================] - 0s 132us/step - loss: 0.5870\n",
      "Epoch 42/50\n",
      "90/90 [==============================] - 0s 136us/step - loss: 0.5802\n",
      "Epoch 43/50\n",
      "90/90 [==============================] - 0s 123us/step - loss: 0.5736\n",
      "Epoch 44/50\n",
      "90/90 [==============================] - 0s 171us/step - loss: 0.5676\n",
      "Epoch 45/50\n",
      "90/90 [==============================] - 0s 140us/step - loss: 0.5614\n",
      "Epoch 46/50\n",
      "90/90 [==============================] - 0s 155us/step - loss: 0.5553\n",
      "Epoch 47/50\n",
      "90/90 [==============================] - 0s 112us/step - loss: 0.5496\n",
      "Epoch 48/50\n",
      "90/90 [==============================] - 0s 159us/step - loss: 0.5441\n",
      "Epoch 49/50\n",
      "90/90 [==============================] - 0s 118us/step - loss: 0.5384\n",
      "Epoch 50/50\n",
      "90/90 [==============================] - 0s 125us/step - loss: 0.5333\n"
     ]
    }
   ],
   "source": [
    "history = model.fit(x_train, y_train, epochs=50, batch_size=16, verbose=1)"
   ]
  },
  {
   "cell_type": "code",
   "execution_count": 8,
   "metadata": {},
   "outputs": [
    {
     "data": {
      "image/png": "[encoded data removed]",
      "text/plain": [
       "<Figure size 936x576 with 1 Axes>"
      ]
     },
     "metadata": {
      "needs_background": "light"
     },
     "output_type": "display_data"
    }
   ],
   "source": [
    "def plot_history(history, figsize=(13, 8), color='purple', s=50, alpha=0.5):\n",
    "    plt.figure(figsize=figsize)\n",
    "    plt.grid(zorder=0, linestyle='--')\n",
    "    plt.scatter(history.epoch, history.history[\"loss\"], c=color, s=s, alpha=alpha)\n",
    "    plt.xlabel(\"epochs\")\n",
    "    plt.ylabel(\"loss\")\n",
    "    plt.show()\n",
    "    \n",
    "    \n",
    "plot_history(history)"
   ]
  },
  {
   "cell_type": "code",
   "execution_count": 111,
   "metadata": {},
   "outputs": [
    {
     "name": "stdout",
     "output_type": "stream",
     "text": [
      "_________________________________________________________________\n",
      "Layer (type)                 Output Shape              Param #   \n",
      "=================================================================\n",
      "dense_31 (Dense)             (None, 4)                 20        \n",
      "_________________________________________________________________\n",
      "dense_32 (Dense)             (None, 4)                 20        \n",
      "_________________________________________________________________\n",
      "dense_33 (Dense)             (None, 3)                 15        \n",
      "=================================================================\n",
      "Total params: 55\n",
      "Trainable params: 55\n",
      "Non-trainable params: 0\n",
      "_________________________________________________________________\n"
     ]
    }
   ],
   "source": [
    "### Let's build a new model and add another layer\n",
    "model_mlp = Sequential()\n",
    "\n",
    "model_mlp.add(Dense(input_dim=4, units=4, activation='relu'))\n",
    "model_mlp.add(Dense(units=4, activation='relu'))\n",
    "model_mlp.add(Dense(units=3, activation='softmax'))\n",
    "\n",
    "model_mlp.summary()"
   ]
  },
  {
   "cell_type": "code",
   "execution_count": 112,
   "metadata": {},
   "outputs": [
    {
     "data": {
      "text/plain": [
       "<matplotlib.collections.PathCollection at 0x1a3a54e9b0>"
      ]
     },
     "execution_count": 112,
     "metadata": {},
     "output_type": "execute_result"
    },
    {
     "data": {
      "image/png": "[encoded data removed]",
      "text/plain": [
       "<Figure size 432x288 with 1 Axes>"
      ]
     },
     "metadata": {
      "needs_background": "light"
     },
     "output_type": "display_data"
    }
   ],
   "source": [
    "model_mlp.compile(loss=keras.losses.categorical_crossentropy, \n",
    "              optimizer=optimizers.SGD(lr=0.001, momentum=0.9, nesterov=True))\n",
    "\n",
    "history = model_mlp.fit(x_train, y_train, epochs=100, batch_size=16, verbose=0)\n",
    "plt.scatter(history.epoch, history.history[\"loss\"])"
   ]
  },
  {
   "cell_type": "code",
   "execution_count": 10,
   "metadata": {},
   "outputs": [],
   "source": [
    "optimizer_dict = {\"adam_001\": {\"optimizer\": optimizers.Adam(), \"color\": \"blue\"},\n",
    "                  \"adam_01\": {\"optimizer\": optimizers.Adam(lr=0.01), \"color\": \"orange\"},\n",
    "                  \"sgd_nag\": {\"optimizer\": optimizers.SGD(lr=0.001, momentum=0.9, nesterov=True), \"color\": \"pink\"},\n",
    "                  \"sgd\": {\"optimizer\": optimizers.SGD(lr=0.001), \"color\": \"red\"},\n",
    "                  \"adagrad\": {\"optimizer\": optimizers.Adagrad(), \"color\": \"yellow\"},\n",
    "                  \"adadelta\": {\"optimizer\": optimizers.Adadelta(), \"color\": \"teal\"}}\n",
    "\n"
   ]
  },
  {
   "cell_type": "code",
   "execution_count": 14,
   "metadata": {},
   "outputs": [
    {
     "name": "stdout",
     "output_type": "stream",
     "text": [
      "Finished fitting adam_001 optimizer\n",
      "Finished fitting adam_01 optimizer\n",
      "Finished fitting sgd_nag optimizer\n",
      "Finished fitting sgd optimizer\n",
      "Finished fitting adagrad optimizer\n",
      "Finished fitting adadelta optimizer\n"
     ]
    }
   ],
   "source": [
    "for label, optimizer in optimizer_dict.items():\n",
    "    # Build Model\n",
    "    model = Sequential()\n",
    "    model.add(Dense(units=4, activation='relu', input_dim=4))\n",
    "    model.add(Dense(units=3, activation='softmax'))\n",
    "    \n",
    "    # compile model\n",
    "    model.compile(loss=keras.losses.categorical_crossentropy, optimizer=optimizer['optimizer'])\n",
    "    \n",
    "    # train our model and get our history\n",
    "    history = model.fit(x_train, y_train, epochs=100, batch_size=16, verbose=0)\n",
    "    \n",
    "    # store history to our dictionary\n",
    "    optimizer_dict[label]['history'] = history\n",
    "    print(f\"Finished fitting {label} optimizer\")"
   ]
  },
  {
   "cell_type": "code",
   "execution_count": 15,
   "metadata": {},
   "outputs": [
    {
     "data": {
      "image/png": "[encoded data removed]",
      "text/plain": [
       "<Figure size 1440x720 with 1 Axes>"
      ]
     },
     "metadata": {
      "needs_background": "light"
     },
     "output_type": "display_data"
    }
   ],
   "source": [
    "plt.figure(figsize=(20, 10))\n",
    "for label, optdict in optimizer_dict.items():\n",
    "    history = optdict['history']\n",
    "    color = optdict[\"color\"]\n",
    "    plt.scatter(history.epoch, history.history[\"loss\"], alpha=0.5, color=color, label=label, s=100)\n",
    "plt.legend()\n",
    "plt.title(\"Loss vs Epoch\\nFor Various Optimizers\")\n",
    "plt.show()"
   ]
  },
  {
   "cell_type": "code",
   "execution_count": 8,
   "metadata": {
    "ExecuteTime": {
     "end_time": "2019-06-18T19:31:59.446967Z",
     "start_time": "2019-06-18T19:31:59.444674Z"
    },
    "scrolled": false
   },
   "outputs": [],
   "source": [
    "# alternatively could have specified a specific batch to train on\n",
    "# model.train_on_batch(x_batch, y_batch)"
   ]
  },
  {
   "cell_type": "markdown",
   "metadata": {},
   "source": [
    "# Evaluating the Trained Model"
   ]
  },
  {
   "cell_type": "markdown",
   "metadata": {},
   "source": [
    "We can look at the overall loss from our test data after training the model was trained"
   ]
  },
  {
   "cell_type": "code",
   "execution_count": 18,
   "metadata": {
    "ExecuteTime": {
     "end_time": "2019-06-18T16:18:23.607022Z",
     "start_time": "2019-06-18T16:18:23.453388Z"
    }
   },
   "outputs": [
    {
     "name": "stdout",
     "output_type": "stream",
     "text": [
      "60/60 [==============================] - 0s 38us/step\n"
     ]
    },
    {
     "data": {
      "text/plain": [
       "0.12374646763006845"
      ]
     },
     "execution_count": 18,
     "metadata": {},
     "output_type": "execute_result"
    }
   ],
   "source": [
    "# Could also just use a batch to evaluate\n",
    "# loss_and_metrics = model.evaluate(x_test, y_test, batch_size=16)\n",
    "loss_and_metrics = model.evaluate(x_test, y_test)\n",
    "\n",
    "loss_and_metrics"
   ]
  },
  {
   "cell_type": "markdown",
   "metadata": {},
   "source": [
    "We can have predictions (probability the data point is a particular class based on our trained model)"
   ]
  },
  {
   "cell_type": "code",
   "execution_count": 20,
   "metadata": {
    "ExecuteTime": {
     "end_time": "2019-06-18T16:18:23.701142Z",
     "start_time": "2019-06-18T16:18:23.613540Z"
    },
    "scrolled": true
   },
   "outputs": [
    {
     "data": {
      "text/plain": [
       "array([[9.83704627e-01, 1.57465991e-02, 5.48841897e-04],\n",
       "       [9.88414645e-01, 1.13545572e-02, 2.30795253e-04],\n",
       "       [4.83600445e-07, 2.06313543e-02, 9.79368210e-01],\n",
       "       [9.77884471e-01, 2.18411200e-02, 2.74449092e-04],\n",
       "       [9.82576132e-01, 1.67746786e-02, 6.49187947e-04],\n",
       "       [2.56978660e-06, 3.25491428e-01, 6.74505949e-01],\n",
       "       [9.41820860e-01, 5.75792976e-02, 5.99891879e-04],\n",
       "       [5.99075367e-09, 2.19367836e-02, 9.78063285e-01],\n",
       "       [3.57025236e-08, 3.38154845e-03, 9.96618390e-01],\n",
       "       [9.73767519e-01, 2.58436427e-02, 3.88930697e-04],\n",
       "       [9.68435526e-01, 2.88138203e-02, 2.75061140e-03],\n",
       "       [9.88783300e-01, 1.10043641e-02, 2.12443832e-04],\n",
       "       [9.83923614e-01, 1.55458329e-02, 5.30468358e-04],\n",
       "       [9.51825023e-01, 4.10227664e-02, 7.15221046e-03],\n",
       "       [9.16416869e-02, 8.26131165e-01, 8.22270438e-02],\n",
       "       [6.93665788e-05, 8.83402765e-01, 1.16527863e-01],\n",
       "       [5.03755331e-01, 4.96100485e-01, 1.44240723e-04],\n",
       "       [9.63902846e-03, 9.85324323e-01, 5.03661809e-03],\n",
       "       [4.42761348e-08, 2.06623125e-04, 9.99793351e-01],\n",
       "       [9.45369771e-04, 9.95404840e-01, 3.64982267e-03],\n",
       "       [5.08855992e-05, 4.53404278e-01, 5.46544850e-01],\n",
       "       [5.77050145e-04, 9.90393937e-01, 9.02898517e-03],\n",
       "       [1.17089712e-06, 2.21152790e-03, 9.97787237e-01],\n",
       "       [2.60339980e-03, 9.92124498e-01, 5.27219381e-03],\n",
       "       [4.44414127e-06, 9.85383391e-01, 1.46121578e-02],\n",
       "       [9.86478984e-01, 1.31786345e-02, 3.42352490e-04],\n",
       "       [9.86567080e-01, 1.30962031e-02, 3.36710451e-04],\n",
       "       [1.87942089e-04, 2.39982039e-01, 7.59829998e-01],\n",
       "       [9.64377403e-01, 3.19808982e-02, 3.64163797e-03],\n",
       "       [1.99199667e-06, 6.88752457e-02, 9.31122780e-01],\n",
       "       [2.14602624e-05, 2.13463008e-01, 7.86515534e-01],\n",
       "       [9.76764619e-01, 2.19133589e-02, 1.32204627e-03],\n",
       "       [3.34405862e-02, 9.62525070e-01, 4.03436972e-03],\n",
       "       [5.50731386e-07, 1.69824599e-03, 9.98301208e-01],\n",
       "       [2.78390720e-02, 9.16741252e-01, 5.54197282e-02],\n",
       "       [9.39636827e-01, 4.88262288e-02, 1.15369605e-02],\n",
       "       [1.22564154e-08, 1.33790495e-03, 9.98662114e-01],\n",
       "       [2.13331240e-03, 9.60410118e-01, 3.74566205e-02],\n",
       "       [1.73169523e-04, 9.95753884e-01, 4.07299818e-03],\n",
       "       [1.86750242e-07, 3.37167294e-03, 9.96628106e-01],\n",
       "       [1.20801851e-03, 9.17537749e-01, 8.12542662e-02],\n",
       "       [1.23814191e-03, 9.90663409e-01, 8.09848867e-03],\n",
       "       [4.45241781e-08, 7.42364558e-04, 9.99257624e-01],\n",
       "       [5.97350858e-03, 9.93600011e-01, 4.26537648e-04],\n",
       "       [9.82691228e-01, 1.66702271e-02, 6.38506957e-04],\n",
       "       [1.18142971e-05, 7.10111022e-01, 2.89877146e-01],\n",
       "       [9.77939188e-01, 2.08961889e-02, 1.16467592e-03],\n",
       "       [1.04701181e-03, 9.81998801e-01, 1.69542022e-02],\n",
       "       [9.77192461e-01, 2.15441249e-02, 1.26346026e-03],\n",
       "       [9.75659370e-01, 2.28605364e-02, 1.48010976e-03],\n",
       "       [9.70673740e-01, 2.70130765e-02, 2.31322739e-03],\n",
       "       [1.31547637e-03, 6.75969779e-01, 3.22714716e-01],\n",
       "       [1.40663687e-05, 2.46956781e-03, 9.97516394e-01],\n",
       "       [7.64302058e-06, 2.17228495e-02, 9.78269458e-01],\n",
       "       [9.74816382e-01, 2.35764440e-02, 1.60717429e-03],\n",
       "       [1.88936902e-08, 4.31532331e-04, 9.99568403e-01],\n",
       "       [1.78247990e-06, 6.69356261e-04, 9.99328852e-01],\n",
       "       [3.33779865e-10, 1.01982080e-03, 9.98980105e-01],\n",
       "       [1.18763933e-06, 7.26437569e-01, 2.73561269e-01],\n",
       "       [9.91783619e-01, 8.12119246e-03, 9.52133851e-05]], dtype=float32)"
      ]
     },
     "execution_count": 20,
     "metadata": {},
     "output_type": "execute_result"
    }
   ],
   "source": [
    "probs = model.predict(x_test)\n",
    "probs"
   ]
  },
  {
   "cell_type": "code",
   "execution_count": null,
   "metadata": {},
   "outputs": [],
   "source": []
  },
  {
   "cell_type": "markdown",
   "metadata": {},
   "source": [
    "We want to say what is the predicted class, so we pick just the largest probability for each result"
   ]
  },
  {
   "cell_type": "code",
   "execution_count": 11,
   "metadata": {
    "ExecuteTime": {
     "end_time": "2019-06-18T16:18:23.706830Z",
     "start_time": "2019-06-18T16:18:23.703922Z"
    }
   },
   "outputs": [
    {
     "data": {
      "text/plain": [
       "array([0, 0, 2, 0, 0, 2, 0, 2, 2, 0, 0, 0, 0, 0, 1, 1, 1, 1, 2, 1, 2, 1,\n",
       "       2, 1, 1, 0, 0, 2, 0, 2, 2, 0, 1, 2, 1, 0, 2, 1, 1, 2, 1, 1, 2, 1,\n",
       "       0, 1, 0, 1, 0, 0, 0, 1, 2, 2, 0, 2, 2, 2, 1, 0])"
      ]
     },
     "execution_count": 11,
     "metadata": {},
     "output_type": "execute_result"
    }
   ],
   "source": [
    "predictions = np.argmax(classes, axis=1)\n",
    "\n",
    "predictions"
   ]
  },
  {
   "cell_type": "markdown",
   "metadata": {},
   "source": [
    "Finally, we can see how accurate our model was by seeing if the predicted classes match the actual labels. Note that this is calculated differently from how the loss is calculated."
   ]
  },
  {
   "cell_type": "code",
   "execution_count": 12,
   "metadata": {
    "ExecuteTime": {
     "end_time": "2019-06-18T16:18:23.715400Z",
     "start_time": "2019-06-18T16:18:23.708557Z"
    }
   },
   "outputs": [
    {
     "data": {
      "text/plain": [
       "array([0.91666667])"
      ]
     },
     "execution_count": 12,
     "metadata": {},
     "output_type": "execute_result"
    }
   ],
   "source": [
    "np.sum(predictions  == np.argmax(y_test, axis=1)) / predictions.shape"
   ]
  },
  {
   "cell_type": "markdown",
   "metadata": {},
   "source": [
    "### But Behold!!!! An out of the box RFC comes into the fold! "
   ]
  },
  {
   "cell_type": "code",
   "execution_count": 13,
   "metadata": {},
   "outputs": [],
   "source": [
    "from sklearn.ensemble import RandomForestClassifier"
   ]
  },
  {
   "cell_type": "code",
   "execution_count": 14,
   "metadata": {},
   "outputs": [],
   "source": [
    "clf = RandomForestClassifier()"
   ]
  },
  {
   "cell_type": "code",
   "execution_count": 15,
   "metadata": {},
   "outputs": [
    {
     "name": "stderr",
     "output_type": "stream",
     "text": [
      "/anaconda3/lib/python3.7/site-packages/sklearn/ensemble/forest.py:245: FutureWarning: The default value of n_estimators will change from 10 in version 0.20 to 100 in 0.22.\n",
      "  \"10 in version 0.20 to 100 in 0.22.\", FutureWarning)\n"
     ]
    },
    {
     "data": {
      "text/plain": [
       "RandomForestClassifier(bootstrap=True, class_weight=None, criterion='gini',\n",
       "                       max_depth=None, max_features='auto', max_leaf_nodes=None,\n",
       "                       min_impurity_decrease=0.0, min_impurity_split=None,\n",
       "                       min_samples_leaf=1, min_samples_split=2,\n",
       "                       min_weight_fraction_leaf=0.0, n_estimators=10,\n",
       "                       n_jobs=None, oob_score=False, random_state=None,\n",
       "                       verbose=0, warm_start=False)"
      ]
     },
     "execution_count": 15,
     "metadata": {},
     "output_type": "execute_result"
    }
   ],
   "source": [
    "clf.fit(x_train, y_train)"
   ]
  },
  {
   "cell_type": "code",
   "execution_count": 16,
   "metadata": {},
   "outputs": [
    {
     "data": {
      "text/plain": [
       "0.9166666666666666"
      ]
     },
     "execution_count": 16,
     "metadata": {},
     "output_type": "execute_result"
    }
   ],
   "source": [
    "clf.score(x_test, y_test)"
   ]
  },
  {
   "cell_type": "code",
   "execution_count": null,
   "metadata": {},
   "outputs": [],
   "source": []
  }
 ],
 "metadata": {
  "kernelspec": {
   "display_name": "Python [conda env:flatiron-env]",
   "language": "python",
   "name": "conda-env-flatiron-env-py"
  },
  "language_info": {
   "codemirror_mode": {
    "name": "ipython",
    "version": 3
   },
   "file_extension": ".py",
   "mimetype": "text/x-python",
   "name": "python",
   "nbconvert_exporter": "python",
   "pygments_lexer": "ipython3",
   "version": "3.6.0"
  },
  "toc": {
   "base_numbering": 1,
   "nav_menu": {},
   "number_sections": true,
   "sideBar": true,
   "skip_h1_title": false,
   "title_cell": "Table of Contents",
   "title_sidebar": "Contents",
   "toc_cell": false,
   "toc_position": {},
   "toc_section_display": true,
   "toc_window_display": false
  },
  "varInspector": {
   "cols": {
    "lenName": 16,
    "lenType": 16,
    "lenVar": 40
   },
   "kernels_config": {
    "python": {
     "delete_cmd_postfix": "",
     "delete_cmd_prefix": "del ",
     "library": "var_list.py",
     "varRefreshCmd": "print(var_dic_list())"
    },
    "r": {
     "delete_cmd_postfix": ") ",
     "delete_cmd_prefix": "rm(",
     "library": "var_list.r",
     "varRefreshCmd": "cat(var_dic_list()) "
    }
   },
   "types_to_exclude": [
    "module",
    "function",
    "builtin_function_or_method",
    "instance",
    "_Feature"
   ],
   "window_display": false
  }
 },
 "nbformat": 4,
 "nbformat_minor": 2
}
