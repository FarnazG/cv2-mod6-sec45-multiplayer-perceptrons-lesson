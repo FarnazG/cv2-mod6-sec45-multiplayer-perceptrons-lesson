{
 "cells": [
  {
   "cell_type": "markdown",
   "metadata": {},
   "source": [
    "Most of this code can be found at <a href='https://keras.io'>keras.io</a>"
   ]
  },
  {
   "cell_type": "markdown",
   "metadata": {},
   "source": [
    "## Questions\n",
    "- what is an activation function and how does it fit into a neural network?\n",
    "    - calculates a value using weights and nodes\n",
    "    - this value is stored into the next layer in a node\n",
    "\n",
    "- when do we use a sigmoid activation?\n",
    "    - when we have a binary output\n",
    "\n",
    "- when do we use a linear activation? \n",
    "    - when we need continuous, but really never\n",
    "    \n",
    "- what activations are the most common to use for hidden layers? \n",
    "    - ReLu, Leaky ReLu\n",
    "\n",
    "\n",
    "## Objectives \n",
    "YWBAT \n",
    "- build a neural network using keras\n",
    "- compare models based on their depth\n",
    "- *choose the best optimizer for a model*"
   ]
  },
  {
   "cell_type": "code",
   "execution_count": 1,
   "metadata": {},
   "outputs": [],
   "source": [
    "def relu(x):\n",
    "    return x if x > 0 else 0\n",
    "\n",
    "\n",
    "def leaky_relu(x, m):\n",
    "    return x if x > 0 else -m*x"
   ]
  },
  {
   "cell_type": "markdown",
   "metadata": {},
   "source": [
    "### Why do we use NNs?\n",
    "- identify combinations of features and learn combinations of features\n",
    "- reduces the need for domain expertise\n",
    "    - unstructured data is handled better\n",
    "    - ambiguous data"
   ]
  },
  {
   "cell_type": "markdown",
   "metadata": {},
   "source": [
    "### Outline\n",
    "* Import data\n",
    "* Build single layer model\n",
    "* Build 2 layer model\n",
    "* Students build their own deep learning model\n",
    "* evaluate models, tune optimizers"
   ]
  },
  {
   "cell_type": "markdown",
   "metadata": {},
   "source": [
    "# Useful Imports"
   ]
  },
  {
   "cell_type": "code",
   "execution_count": 2,
   "metadata": {
    "ExecuteTime": {
     "end_time": "2019-06-18T16:18:12.782645Z",
     "start_time": "2019-06-18T16:18:11.185732Z"
    }
   },
   "outputs": [
    {
     "name": "stderr",
     "output_type": "stream",
     "text": [
      "Using TensorFlow backend.\n"
     ]
    }
   ],
   "source": [
    "import keras\n",
    "import numpy as np\n",
    "import pandas as pd\n",
    "\n",
    "from sklearn.metrics import classification_report\n",
    "\n",
    "import matplotlib.pyplot as plt"
   ]
  },
  {
   "cell_type": "code",
   "execution_count": 3,
   "metadata": {
    "ExecuteTime": {
     "end_time": "2019-06-18T16:18:13.087187Z",
     "start_time": "2019-06-18T16:18:13.082385Z"
    }
   },
   "outputs": [],
   "source": [
    "from keras import models\n",
    "from keras import layers\n",
    "from keras import optimizers"
   ]
  },
  {
   "cell_type": "markdown",
   "metadata": {},
   "source": [
    "# Obtaining Dataset & Train-Test Split"
   ]
  },
  {
   "cell_type": "markdown",
   "metadata": {},
   "source": [
    "Nothing different from training other models"
   ]
  },
  {
   "cell_type": "code",
   "execution_count": 4,
   "metadata": {
    "ExecuteTime": {
     "end_time": "2019-06-18T16:18:13.048684Z",
     "start_time": "2019-06-18T16:18:12.784941Z"
    }
   },
   "outputs": [],
   "source": [
    "from sklearn.datasets import load_iris\n",
    "from sklearn.model_selection import train_test_split\n",
    "from sklearn.preprocessing import OneHotEncoder, StandardScaler\n",
    "\n",
    "iris = load_iris()\n",
    "x = iris['data']\n",
    "y = iris['target']\n",
    "names = iris['target_names']\n",
    "feature_names = iris['feature_names']"
   ]
  },
  {
   "cell_type": "code",
   "execution_count": 5,
   "metadata": {},
   "outputs": [
    {
     "data": {
      "text/html": [
       "<div>\n",
       "<style scoped>\n",
       "    .dataframe tbody tr th:only-of-type {\n",
       "        vertical-align: middle;\n",
       "    }\n",
       "\n",
       "    .dataframe tbody tr th {\n",
       "        vertical-align: top;\n",
       "    }\n",
       "\n",
       "    .dataframe thead th {\n",
       "        text-align: right;\n",
       "    }\n",
       "</style>\n",
       "<table border=\"1\" class=\"dataframe\">\n",
       "  <thead>\n",
       "    <tr style=\"text-align: right;\">\n",
       "      <th></th>\n",
       "      <th>sepal length (cm)</th>\n",
       "      <th>sepal width (cm)</th>\n",
       "      <th>petal length (cm)</th>\n",
       "      <th>petal width (cm)</th>\n",
       "      <th>target</th>\n",
       "    </tr>\n",
       "  </thead>\n",
       "  <tbody>\n",
       "    <tr>\n",
       "      <td>0</td>\n",
       "      <td>5.1</td>\n",
       "      <td>3.5</td>\n",
       "      <td>1.4</td>\n",
       "      <td>0.2</td>\n",
       "      <td>0</td>\n",
       "    </tr>\n",
       "    <tr>\n",
       "      <td>1</td>\n",
       "      <td>4.9</td>\n",
       "      <td>3.0</td>\n",
       "      <td>1.4</td>\n",
       "      <td>0.2</td>\n",
       "      <td>0</td>\n",
       "    </tr>\n",
       "    <tr>\n",
       "      <td>2</td>\n",
       "      <td>4.7</td>\n",
       "      <td>3.2</td>\n",
       "      <td>1.3</td>\n",
       "      <td>0.2</td>\n",
       "      <td>0</td>\n",
       "    </tr>\n",
       "    <tr>\n",
       "      <td>3</td>\n",
       "      <td>4.6</td>\n",
       "      <td>3.1</td>\n",
       "      <td>1.5</td>\n",
       "      <td>0.2</td>\n",
       "      <td>0</td>\n",
       "    </tr>\n",
       "    <tr>\n",
       "      <td>4</td>\n",
       "      <td>5.0</td>\n",
       "      <td>3.6</td>\n",
       "      <td>1.4</td>\n",
       "      <td>0.2</td>\n",
       "      <td>0</td>\n",
       "    </tr>\n",
       "  </tbody>\n",
       "</table>\n",
       "</div>"
      ],
      "text/plain": [
       "   sepal length (cm)  sepal width (cm)  petal length (cm)  petal width (cm)  \\\n",
       "0                5.1               3.5                1.4               0.2   \n",
       "1                4.9               3.0                1.4               0.2   \n",
       "2                4.7               3.2                1.3               0.2   \n",
       "3                4.6               3.1                1.5               0.2   \n",
       "4                5.0               3.6                1.4               0.2   \n",
       "\n",
       "   target  \n",
       "0       0  \n",
       "1       0  \n",
       "2       0  \n",
       "3       0  \n",
       "4       0  "
      ]
     },
     "execution_count": 5,
     "metadata": {},
     "output_type": "execute_result"
    }
   ],
   "source": [
    "df = pd.DataFrame(x, columns=feature_names)\n",
    "df['target'] = y\n",
    "df.head()"
   ]
  },
  {
   "cell_type": "code",
   "execution_count": 8,
   "metadata": {},
   "outputs": [
    {
     "data": {
      "text/plain": [
       "(array(['setosa', 'versicolor', 'virginica'], dtype='<U10'), array([0, 1, 2]))"
      ]
     },
     "execution_count": 8,
     "metadata": {},
     "output_type": "execute_result"
    }
   ],
   "source": [
    "names, df['target'].unique()"
   ]
  },
  {
   "cell_type": "code",
   "execution_count": 9,
   "metadata": {},
   "outputs": [
    {
     "name": "stdout",
     "output_type": "stream",
     "text": [
      "(150,)\n"
     ]
    },
    {
     "data": {
      "text/plain": [
       "(150, 3)"
      ]
     },
     "execution_count": 9,
     "metadata": {},
     "output_type": "execute_result"
    }
   ],
   "source": [
    "# One hot encoding\n",
    "# if we don't encode \n",
    "# \n",
    "enc = OneHotEncoder()\n",
    "print(y.shape)\n",
    "y = enc.fit_transform(y[:, np.newaxis]).toarray()"
   ]
  },
  {
   "cell_type": "code",
   "execution_count": 11,
   "metadata": {},
   "outputs": [],
   "source": [
    " # Scale data to have mean 0 and variance 1 \n",
    "# # which is importance for convergence of the neural network\n",
    "scaler = StandardScaler()\n",
    "x_scaled = scaler.fit_transform(x)"
   ]
  },
  {
   "cell_type": "code",
   "execution_count": 16,
   "metadata": {},
   "outputs": [],
   "source": [
    "# # Split the data set into training and testing\n",
    "x_train, x_test, y_train, y_test = train_test_split(x_scaled, y, test_size=0.2, random_state=2)"
   ]
  },
  {
   "cell_type": "code",
   "execution_count": 12,
   "metadata": {},
   "outputs": [
    {
     "data": {
      "text/plain": [
       "'\\nAttribute Information:\\n\\nfLength: continuous # major axis of ellipse [mm]\\nfWidth: continuous # minor axis of ellipse [mm]\\nfSize: continuous # 10-log of sum of content of all pixels [in #phot]\\nfConc: continuous # ratio of sum of two highest pixels over fSize [ratio]\\nfConc1: continuous # ratio of highest pixel over fSize [ratio]\\nfAsym: continuous # distance from highest pixel to center, projected onto major axis [mm]\\nfM3Long: continuous # 3rd root of third moment along major axis [mm]\\nfM3Trans: continuous # 3rd root of third moment along minor axis [mm]\\nfAlpha: continuous # angle of major axis with vector to origin [deg]\\nfDist: continuous # distance from origin to center of ellipse [mm]\\nclass: g,h # gamma (signal), hadron (background)\\n'"
      ]
     },
     "execution_count": 12,
     "metadata": {},
     "output_type": "execute_result"
    }
   ],
   "source": [
    "\"\"\"\n",
    "Attribute Information:\n",
    "\n",
    "fLength: continuous # major axis of ellipse [mm]\n",
    "fWidth: continuous # minor axis of ellipse [mm]\n",
    "fSize: continuous # 10-log of sum of content of all pixels [in #phot]\n",
    "fConc: continuous # ratio of sum of two highest pixels over fSize [ratio]\n",
    "fConc1: continuous # ratio of highest pixel over fSize [ratio]\n",
    "fAsym: continuous # distance from highest pixel to center, projected onto major axis [mm]\n",
    "fM3Long: continuous # 3rd root of third moment along major axis [mm]\n",
    "fM3Trans: continuous # 3rd root of third moment along minor axis [mm]\n",
    "fAlpha: continuous # angle of major axis with vector to origin [deg]\n",
    "fDist: continuous # distance from origin to center of ellipse [mm]\n",
    "class: g,h # gamma (signal), hadron (background)\n",
    "\"\"\""
   ]
  },
  {
   "cell_type": "code",
   "execution_count": 4,
   "metadata": {},
   "outputs": [
    {
     "data": {
      "text/html": [
       "<div>\n",
       "<style scoped>\n",
       "    .dataframe tbody tr th:only-of-type {\n",
       "        vertical-align: middle;\n",
       "    }\n",
       "\n",
       "    .dataframe tbody tr th {\n",
       "        vertical-align: top;\n",
       "    }\n",
       "\n",
       "    .dataframe thead th {\n",
       "        text-align: right;\n",
       "    }\n",
       "</style>\n",
       "<table border=\"1\" class=\"dataframe\">\n",
       "  <thead>\n",
       "    <tr style=\"text-align: right;\">\n",
       "      <th></th>\n",
       "      <th>ID</th>\n",
       "      <th>fLength:</th>\n",
       "      <th>fWidth:</th>\n",
       "      <th>fSize:</th>\n",
       "      <th>fConc:</th>\n",
       "      <th>fConc1:</th>\n",
       "      <th>fAsym:</th>\n",
       "      <th>fM3Long:</th>\n",
       "      <th>fM3Trans:</th>\n",
       "      <th>fAlpha:</th>\n",
       "      <th>fDist:</th>\n",
       "      <th>class:</th>\n",
       "    </tr>\n",
       "  </thead>\n",
       "  <tbody>\n",
       "    <tr>\n",
       "      <td>0</td>\n",
       "      <td>1</td>\n",
       "      <td>28.7967</td>\n",
       "      <td>16.0021</td>\n",
       "      <td>2.6449</td>\n",
       "      <td>0.3918</td>\n",
       "      <td>0.1982</td>\n",
       "      <td>27.7004</td>\n",
       "      <td>22.0110</td>\n",
       "      <td>-8.2027</td>\n",
       "      <td>40.0920</td>\n",
       "      <td>81.8828</td>\n",
       "      <td>g</td>\n",
       "    </tr>\n",
       "    <tr>\n",
       "      <td>1</td>\n",
       "      <td>2</td>\n",
       "      <td>31.6036</td>\n",
       "      <td>11.7235</td>\n",
       "      <td>2.5185</td>\n",
       "      <td>0.5303</td>\n",
       "      <td>0.3773</td>\n",
       "      <td>26.2722</td>\n",
       "      <td>23.8238</td>\n",
       "      <td>-9.9574</td>\n",
       "      <td>6.3609</td>\n",
       "      <td>205.2610</td>\n",
       "      <td>g</td>\n",
       "    </tr>\n",
       "  </tbody>\n",
       "</table>\n",
       "</div>"
      ],
      "text/plain": [
       "   ID  fLength:  fWidth:  fSize:  fConc:  fConc1:   fAsym:  fM3Long:  \\\n",
       "0   1   28.7967  16.0021  2.6449  0.3918   0.1982  27.7004   22.0110   \n",
       "1   2   31.6036  11.7235  2.5185  0.5303   0.3773  26.2722   23.8238   \n",
       "\n",
       "   fM3Trans:  fAlpha:    fDist: class:  \n",
       "0    -8.2027  40.0920   81.8828      g  \n",
       "1    -9.9574   6.3609  205.2610      g  "
      ]
     },
     "metadata": {},
     "output_type": "display_data"
    },
    {
     "data": {
      "text/html": [
       "<div>\n",
       "<style scoped>\n",
       "    .dataframe tbody tr th:only-of-type {\n",
       "        vertical-align: middle;\n",
       "    }\n",
       "\n",
       "    .dataframe tbody tr th {\n",
       "        vertical-align: top;\n",
       "    }\n",
       "\n",
       "    .dataframe thead th {\n",
       "        text-align: right;\n",
       "    }\n",
       "</style>\n",
       "<table border=\"1\" class=\"dataframe\">\n",
       "  <thead>\n",
       "    <tr style=\"text-align: right;\">\n",
       "      <th></th>\n",
       "      <th>fLength:</th>\n",
       "      <th>fWidth:</th>\n",
       "      <th>fSize:</th>\n",
       "      <th>fConc:</th>\n",
       "      <th>fConc1:</th>\n",
       "      <th>fAsym:</th>\n",
       "      <th>fM3Long:</th>\n",
       "      <th>fM3Trans:</th>\n",
       "      <th>fAlpha:</th>\n",
       "      <th>fDist:</th>\n",
       "      <th>class:</th>\n",
       "    </tr>\n",
       "  </thead>\n",
       "  <tbody>\n",
       "    <tr>\n",
       "      <td>0</td>\n",
       "      <td>28.7967</td>\n",
       "      <td>16.0021</td>\n",
       "      <td>2.6449</td>\n",
       "      <td>0.3918</td>\n",
       "      <td>0.1982</td>\n",
       "      <td>27.7004</td>\n",
       "      <td>22.0110</td>\n",
       "      <td>-8.2027</td>\n",
       "      <td>40.0920</td>\n",
       "      <td>81.8828</td>\n",
       "      <td>g</td>\n",
       "    </tr>\n",
       "    <tr>\n",
       "      <td>1</td>\n",
       "      <td>31.6036</td>\n",
       "      <td>11.7235</td>\n",
       "      <td>2.5185</td>\n",
       "      <td>0.5303</td>\n",
       "      <td>0.3773</td>\n",
       "      <td>26.2722</td>\n",
       "      <td>23.8238</td>\n",
       "      <td>-9.9574</td>\n",
       "      <td>6.3609</td>\n",
       "      <td>205.2610</td>\n",
       "      <td>g</td>\n",
       "    </tr>\n",
       "  </tbody>\n",
       "</table>\n",
       "</div>"
      ],
      "text/plain": [
       "   fLength:  fWidth:  fSize:  fConc:  fConc1:   fAsym:  fM3Long:  fM3Trans:  \\\n",
       "0   28.7967  16.0021  2.6449  0.3918   0.1982  27.7004   22.0110    -8.2027   \n",
       "1   31.6036  11.7235  2.5185  0.5303   0.3773  26.2722   23.8238    -9.9574   \n",
       "\n",
       "   fAlpha:    fDist: class:  \n",
       "0  40.0920   81.8828      g  \n",
       "1   6.3609  205.2610      g  "
      ]
     },
     "execution_count": 4,
     "metadata": {},
     "output_type": "execute_result"
    }
   ],
   "source": [
    "### Let's load in some custom data\n",
    "df = pd.read_csv(\"MagicTelescope.csv\")\n",
    "display(df.head(2))\n",
    "df.drop(\"ID\", axis=1, inplace=True)\n",
    "df.head(2)"
   ]
  },
  {
   "cell_type": "code",
   "execution_count": 10,
   "metadata": {},
   "outputs": [
    {
     "data": {
      "text/plain": [
       "(19020,)"
      ]
     },
     "execution_count": 10,
     "metadata": {},
     "output_type": "execute_result"
    }
   ],
   "source": [
    "X, y = df.drop('class:', axis=1), df[\"class:\"]\n",
    "y.shape"
   ]
  },
  {
   "cell_type": "code",
   "execution_count": 11,
   "metadata": {},
   "outputs": [
    {
     "data": {
      "text/plain": [
       "((19020, 2), array([[1., 0.],\n",
       "        [1., 0.],\n",
       "        [1., 0.],\n",
       "        ...,\n",
       "        [0., 1.],\n",
       "        [0., 1.],\n",
       "        [0., 1.]]))"
      ]
     },
     "execution_count": 11,
     "metadata": {},
     "output_type": "execute_result"
    }
   ],
   "source": [
    "# one-hot encode your target in order to use softmax activation\n",
    "# softmax activation is better under optimization\n",
    "enc = OneHotEncoder()\n",
    "y = enc.fit_transform(y[:, np.newaxis]).toarray()\n",
    "y.shape, y"
   ]
  },
  {
   "cell_type": "markdown",
   "metadata": {},
   "source": [
    "### What did we learn?\n",
    "- use Relu on dense layers that aren't going to the output\n",
    "- onehotencode target (even if binary) because\n",
    "    - because we can then use `softmax` activation\n",
    "    - `softmax` activation performs much better than `sigmoid` under gradient descent"
   ]
  },
  {
   "cell_type": "code",
   "execution_count": null,
   "metadata": {},
   "outputs": [],
   "source": []
  },
  {
   "cell_type": "code",
   "execution_count": null,
   "metadata": {},
   "outputs": [],
   "source": []
  },
  {
   "cell_type": "code",
   "execution_count": null,
   "metadata": {},
   "outputs": [],
   "source": []
  },
  {
   "cell_type": "code",
   "execution_count": 12,
   "metadata": {},
   "outputs": [],
   "source": [
    "scaler = StandardScaler()\n",
    "x_scaled = scaler.fit_transform(X)\n",
    "\n",
    "# Split the data set into training and testing\n",
    "x_train, x_test, y_train, y_test = train_test_split(x_scaled, y, test_size=0.4, random_state=2)"
   ]
  },
  {
   "cell_type": "code",
   "execution_count": 13,
   "metadata": {},
   "outputs": [
    {
     "data": {
      "text/plain": [
       "((11412, 10), (7608, 10), (11412, 2), (7608, 2))"
      ]
     },
     "execution_count": 13,
     "metadata": {},
     "output_type": "execute_result"
    }
   ],
   "source": [
    "x_train.shape, x_test.shape, y_train.shape, y_test.shape "
   ]
  },
  {
   "cell_type": "markdown",
   "metadata": {},
   "source": [
    "# Creating a Neural Network"
   ]
  },
  {
   "cell_type": "markdown",
   "metadata": {},
   "source": [
    "`Sequential` is referring to the neural networks we've observed. There are other neural network models that will go beyond this class."
   ]
  },
  {
   "cell_type": "code",
   "execution_count": 13,
   "metadata": {
    "ExecuteTime": {
     "end_time": "2019-06-18T16:18:13.126356Z",
     "start_time": "2019-06-18T16:18:13.090188Z"
    }
   },
   "outputs": [
    {
     "name": "stderr",
     "output_type": "stream",
     "text": [
      "WARNING: Logging before flag parsing goes to stderr.\n",
      "W0110 13:21:41.083324 140736002601856 deprecation_wrapper.py:119] From /Users/rafael/anaconda3/envs/flatiron-env/lib/python3.6/site-packages/keras/backend/tensorflow_backend.py:74: The name tf.get_default_graph is deprecated. Please use tf.compat.v1.get_default_graph instead.\n",
      "\n"
     ]
    }
   ],
   "source": [
    "from keras.models import Sequential # this just means we go through our network in order of our layers\n",
    "\n",
    "model = Sequential()"
   ]
  },
  {
   "cell_type": "code",
   "execution_count": 18,
   "metadata": {},
   "outputs": [
    {
     "data": {
      "text/plain": [
       "((150, 4), (120, 4), (30, 4), (150, 3))"
      ]
     },
     "execution_count": 18,
     "metadata": {},
     "output_type": "execute_result"
    }
   ],
   "source": [
    "x.shape, x_train.shape, x_test.shape, y.shape"
   ]
  },
  {
   "cell_type": "markdown",
   "metadata": {},
   "source": [
    "The actual network; we can decide how many layers & nodes for each layer here as well as other hyperparameters like the activation function."
   ]
  },
  {
   "cell_type": "code",
   "execution_count": 29,
   "metadata": {
    "ExecuteTime": {
     "end_time": "2019-06-18T19:28:01.843032Z",
     "start_time": "2019-06-18T19:27:59.181321Z"
    }
   },
   "outputs": [],
   "source": [
    "from keras.layers import Dense\n",
    "\n",
    "model = Sequential()\n",
    "\n",
    "# first hidden layer\n",
    "model.add(Dense(units=16, activation='relu', input_dim=4, use_bias=True))\n",
    "\n",
    "# output layer\n",
    "model.add(Dense(units=3, activation='softmax'))"
   ]
  },
  {
   "cell_type": "code",
   "execution_count": 30,
   "metadata": {},
   "outputs": [
    {
     "name": "stdout",
     "output_type": "stream",
     "text": [
      "_________________________________________________________________\n",
      "Layer (type)                 Output Shape              Param #   \n",
      "=================================================================\n",
      "dense_3 (Dense)              (None, 16)                80        \n",
      "_________________________________________________________________\n",
      "dense_4 (Dense)              (None, 3)                 51        \n",
      "=================================================================\n",
      "Total params: 131\n",
      "Trainable params: 131\n",
      "Non-trainable params: 0\n",
      "_________________________________________________________________\n"
     ]
    }
   ],
   "source": [
    "model.summary()\n",
    "\n",
    "# what does param # represent?\n",
    "# number of weights (edges) connecting the layer to the previous layer"
   ]
  },
  {
   "cell_type": "markdown",
   "metadata": {},
   "source": [
    "Compile the model to a form that the computer can more easily work with"
   ]
  },
  {
   "cell_type": "code",
   "execution_count": 31,
   "metadata": {
    "ExecuteTime": {
     "end_time": "2019-06-18T16:18:13.223984Z",
     "start_time": "2019-06-18T16:18:13.187420Z"
    }
   },
   "outputs": [],
   "source": [
    "# stochastic gradient descent with momentum as our optimizer\n",
    "model_optimizer = optimizers.SGD(lr=0.001, momentum=0.9, nesterov=True)\n",
    "\n",
    "model.compile(loss=keras.losses.categorical_crossentropy, \n",
    "              optimizer=model_optimizer)"
   ]
  },
  {
   "cell_type": "markdown",
   "metadata": {},
   "source": [
    "# Using the Model"
   ]
  },
  {
   "cell_type": "markdown",
   "metadata": {},
   "source": [
    "Using the model structure, we do sequences of feedfoward and then backpropagation to adjust the weights and biases (training/fitting)"
   ]
  },
  {
   "cell_type": "code",
   "execution_count": 32,
   "metadata": {
    "ExecuteTime": {
     "end_time": "2019-06-18T16:18:23.443468Z",
     "start_time": "2019-06-18T16:18:13.227101Z"
    },
    "scrolled": false
   },
   "outputs": [
    {
     "name": "stdout",
     "output_type": "stream",
     "text": [
      "Epoch 1/50\n",
      "120/120 [==============================] - 0s 2ms/step - loss: 1.2634\n",
      "Epoch 2/50\n",
      "120/120 [==============================] - 0s 169us/step - loss: 1.2171\n",
      "Epoch 3/50\n",
      "120/120 [==============================] - 0s 159us/step - loss: 1.1596\n",
      "Epoch 4/50\n",
      "120/120 [==============================] - 0s 134us/step - loss: 1.1016\n",
      "Epoch 5/50\n",
      "120/120 [==============================] - 0s 183us/step - loss: 1.0468\n",
      "Epoch 6/50\n",
      "120/120 [==============================] - 0s 153us/step - loss: 0.9991\n",
      "Epoch 7/50\n",
      "120/120 [==============================] - 0s 102us/step - loss: 0.9563\n",
      "Epoch 8/50\n",
      "120/120 [==============================] - 0s 161us/step - loss: 0.9158\n",
      "Epoch 9/50\n",
      "120/120 [==============================] - 0s 177us/step - loss: 0.8824\n",
      "Epoch 10/50\n",
      "120/120 [==============================] - 0s 127us/step - loss: 0.8498\n",
      "Epoch 11/50\n",
      "120/120 [==============================] - 0s 193us/step - loss: 0.8212\n",
      "Epoch 12/50\n",
      "120/120 [==============================] - 0s 110us/step - loss: 0.7942\n",
      "Epoch 13/50\n",
      "120/120 [==============================] - 0s 155us/step - loss: 0.7702\n",
      "Epoch 14/50\n",
      "120/120 [==============================] - 0s 129us/step - loss: 0.7455\n",
      "Epoch 15/50\n",
      "120/120 [==============================] - 0s 130us/step - loss: 0.7238\n",
      "Epoch 16/50\n",
      "120/120 [==============================] - 0s 155us/step - loss: 0.7028\n",
      "Epoch 17/50\n",
      "120/120 [==============================] - 0s 112us/step - loss: 0.6828\n",
      "Epoch 18/50\n",
      "120/120 [==============================] - 0s 133us/step - loss: 0.6641\n",
      "Epoch 19/50\n",
      "120/120 [==============================] - 0s 119us/step - loss: 0.6460\n",
      "Epoch 20/50\n",
      "120/120 [==============================] - 0s 132us/step - loss: 0.6290\n",
      "Epoch 21/50\n",
      "120/120 [==============================] - 0s 141us/step - loss: 0.6128\n",
      "Epoch 22/50\n",
      "120/120 [==============================] - 0s 121us/step - loss: 0.5970\n",
      "Epoch 23/50\n",
      "120/120 [==============================] - 0s 104us/step - loss: 0.5823\n",
      "Epoch 24/50\n",
      "120/120 [==============================] - 0s 142us/step - loss: 0.5685\n",
      "Epoch 25/50\n",
      "120/120 [==============================] - 0s 95us/step - loss: 0.5545\n",
      "Epoch 26/50\n",
      "120/120 [==============================] - 0s 123us/step - loss: 0.5420\n",
      "Epoch 27/50\n",
      "120/120 [==============================] - 0s 131us/step - loss: 0.5297\n",
      "Epoch 28/50\n",
      "120/120 [==============================] - 0s 107us/step - loss: 0.5182\n",
      "Epoch 29/50\n",
      "120/120 [==============================] - 0s 124us/step - loss: 0.5072\n",
      "Epoch 30/50\n",
      "120/120 [==============================] - 0s 158us/step - loss: 0.4967\n",
      "Epoch 31/50\n",
      "120/120 [==============================] - 0s 135us/step - loss: 0.4865\n",
      "Epoch 32/50\n",
      "120/120 [==============================] - 0s 126us/step - loss: 0.4771\n",
      "Epoch 33/50\n",
      "120/120 [==============================] - 0s 120us/step - loss: 0.4681\n",
      "Epoch 34/50\n",
      "120/120 [==============================] - 0s 114us/step - loss: 0.4592\n",
      "Epoch 35/50\n",
      "120/120 [==============================] - 0s 108us/step - loss: 0.4513\n",
      "Epoch 36/50\n",
      "120/120 [==============================] - 0s 123us/step - loss: 0.4432\n",
      "Epoch 37/50\n",
      "120/120 [==============================] - 0s 138us/step - loss: 0.4357\n",
      "Epoch 38/50\n",
      "120/120 [==============================] - 0s 137us/step - loss: 0.4285\n",
      "Epoch 39/50\n",
      "120/120 [==============================] - 0s 147us/step - loss: 0.4219\n",
      "Epoch 40/50\n",
      "120/120 [==============================] - 0s 137us/step - loss: 0.4152\n",
      "Epoch 41/50\n",
      "120/120 [==============================] - 0s 105us/step - loss: 0.4087\n",
      "Epoch 42/50\n",
      "120/120 [==============================] - 0s 112us/step - loss: 0.4029\n",
      "Epoch 43/50\n",
      "120/120 [==============================] - 0s 105us/step - loss: 0.3971\n",
      "Epoch 44/50\n",
      "120/120 [==============================] - 0s 110us/step - loss: 0.3915\n",
      "Epoch 45/50\n",
      "120/120 [==============================] - 0s 143us/step - loss: 0.3860\n",
      "Epoch 46/50\n",
      "120/120 [==============================] - 0s 131us/step - loss: 0.3810\n",
      "Epoch 47/50\n",
      "120/120 [==============================] - 0s 122us/step - loss: 0.3761\n",
      "Epoch 48/50\n",
      "120/120 [==============================] - 0s 113us/step - loss: 0.3713\n",
      "Epoch 49/50\n",
      "120/120 [==============================] - 0s 106us/step - loss: 0.3667\n",
      "Epoch 50/50\n",
      "120/120 [==============================] - 0s 137us/step - loss: 0.3623\n"
     ]
    }
   ],
   "source": [
    "history = model.fit(x_train, y_train, epochs=50, batch_size=15, verbose=1)\n",
    "\n",
    "# trains on all of the training data 50 total times\n",
    "# weights get updated every 15 rows"
   ]
  },
  {
   "cell_type": "code",
   "execution_count": null,
   "metadata": {},
   "outputs": [],
   "source": []
  },
  {
   "cell_type": "code",
   "execution_count": 33,
   "metadata": {},
   "outputs": [
    {
     "data": {
      "image/png": "[encoded data removed]",
      "text/plain": [
       "<Figure size 936x576 with 1 Axes>"
      ]
     },
     "metadata": {
      "needs_background": "light"
     },
     "output_type": "display_data"
    }
   ],
   "source": [
    "def plot_history(history, figsize=(13, 8), color='purple', s=50, alpha=0.5):\n",
    "    plt.figure(figsize=figsize)\n",
    "    plt.grid(zorder=0, linestyle='--')\n",
    "    plt.scatter(history.epoch, history.history[\"loss\"], c=color, s=s, alpha=alpha)\n",
    "    plt.xlabel(\"epochs\")\n",
    "    plt.ylabel(\"loss\")\n",
    "    plt.show()\n",
    "    \n",
    "    \n",
    "plot_history(history)"
   ]
  },
  {
   "cell_type": "markdown",
   "metadata": {},
   "source": [
    "# Evaluating the Trained Model"
   ]
  },
  {
   "cell_type": "markdown",
   "metadata": {},
   "source": [
    "We can look at the overall loss from our test data after training the model was trained"
   ]
  },
  {
   "cell_type": "code",
   "execution_count": 34,
   "metadata": {
    "ExecuteTime": {
     "end_time": "2019-06-18T16:18:23.607022Z",
     "start_time": "2019-06-18T16:18:23.453388Z"
    }
   },
   "outputs": [
    {
     "name": "stdout",
     "output_type": "stream",
     "text": [
      "\r",
      "30/30 [==============================] - 0s 2ms/step\n"
     ]
    },
    {
     "data": {
      "text/plain": [
       "0.35233762860298157"
      ]
     },
     "execution_count": 34,
     "metadata": {},
     "output_type": "execute_result"
    }
   ],
   "source": [
    "# Could also just use a batch to evaluate\n",
    "loss_and_metrics = model.evaluate(x_test, y_test)\n",
    "\n",
    "loss_and_metrics"
   ]
  },
  {
   "cell_type": "markdown",
   "metadata": {},
   "source": [
    "We can have predictions (probability the data point is a particular class based on our trained model)"
   ]
  },
  {
   "cell_type": "code",
   "execution_count": 35,
   "metadata": {
    "ExecuteTime": {
     "end_time": "2019-06-18T16:18:23.701142Z",
     "start_time": "2019-06-18T16:18:23.613540Z"
    },
    "scrolled": true
   },
   "outputs": [
    {
     "data": {
      "text/plain": [
       "array([[0.908252  , 0.05093198, 0.04081605],\n",
       "       [0.86384463, 0.09747054, 0.03868483],\n",
       "       [0.04356996, 0.38416925, 0.5722608 ],\n",
       "       [0.84864336, 0.11452984, 0.03682683],\n",
       "       [0.90514326, 0.04905558, 0.04580114],\n",
       "       [0.03435349, 0.19180147, 0.77384496],\n",
       "       [0.8097698 , 0.14288189, 0.04734832],\n",
       "       [0.02354338, 0.19861117, 0.77784544],\n",
       "       [0.02174823, 0.1567158 , 0.821536  ],\n",
       "       [0.800807  , 0.15338777, 0.04580529]], dtype=float32)"
      ]
     },
     "execution_count": 35,
     "metadata": {},
     "output_type": "execute_result"
    }
   ],
   "source": [
    "probs = model.predict(x_test)\n",
    "probs[:10]"
   ]
  },
  {
   "cell_type": "markdown",
   "metadata": {},
   "source": [
    "We want to say what is the predicted class, so we pick just the largest probability for each result"
   ]
  },
  {
   "cell_type": "code",
   "execution_count": 36,
   "metadata": {
    "ExecuteTime": {
     "end_time": "2019-06-18T16:18:23.706830Z",
     "start_time": "2019-06-18T16:18:23.703922Z"
    }
   },
   "outputs": [
    {
     "data": {
      "text/plain": [
       "array([0, 0, 2, 0, 0, 2, 0, 2, 2, 0])"
      ]
     },
     "execution_count": 36,
     "metadata": {},
     "output_type": "execute_result"
    }
   ],
   "source": [
    "predictions = np.argmax(probs, axis=1)\n",
    "\n",
    "predictions[:10]"
   ]
  },
  {
   "cell_type": "code",
   "execution_count": 37,
   "metadata": {
    "ExecuteTime": {
     "end_time": "2019-06-18T16:18:23.715400Z",
     "start_time": "2019-06-18T16:18:23.708557Z"
    }
   },
   "outputs": [
    {
     "data": {
      "text/plain": [
       "array([0.86666667])"
      ]
     },
     "execution_count": 37,
     "metadata": {},
     "output_type": "execute_result"
    }
   ],
   "source": [
    "np.sum(predictions  == np.argmax(y_test, axis=1)) / predictions.shape"
   ]
  },
  {
   "cell_type": "code",
   "execution_count": 38,
   "metadata": {},
   "outputs": [
    {
     "name": "stdout",
     "output_type": "stream",
     "text": [
      "              precision    recall  f1-score   support\n",
      "\n",
      "           0       1.00      0.93      0.96        14\n",
      "           1       0.83      0.62      0.71         8\n",
      "\n",
      "   micro avg       0.95      0.82      0.88        22\n",
      "   macro avg       0.92      0.78      0.84        22\n",
      "weighted avg       0.94      0.82      0.87        22\n",
      "\n"
     ]
    }
   ],
   "source": [
    "report = classification_report(y_test.argmax(axis=1), predictions, labels=[0, 1])\n",
    "print(report)"
   ]
  },
  {
   "cell_type": "markdown",
   "metadata": {},
   "source": [
    "Finally, we can see how accurate our model was by seeing if the predicted classes match the actual labels. Note that this is calculated differently from how the loss is calculated."
   ]
  },
  {
   "cell_type": "markdown",
   "metadata": {},
   "source": [
    "### But Behold!!!! An out of the box RFC comes into the fold! "
   ]
  },
  {
   "cell_type": "code",
   "execution_count": 39,
   "metadata": {},
   "outputs": [],
   "source": [
    "from sklearn.ensemble import RandomForestClassifier"
   ]
  },
  {
   "cell_type": "code",
   "execution_count": 40,
   "metadata": {},
   "outputs": [],
   "source": [
    "clf = RandomForestClassifier()"
   ]
  },
  {
   "cell_type": "code",
   "execution_count": 41,
   "metadata": {},
   "outputs": [
    {
     "data": {
      "text/plain": [
       "RandomForestClassifier(bootstrap=True, ccp_alpha=0.0, class_weight=None,\n",
       "                       criterion='gini', max_depth=None, max_features='auto',\n",
       "                       max_leaf_nodes=None, max_samples=None,\n",
       "                       min_impurity_decrease=0.0, min_impurity_split=None,\n",
       "                       min_samples_leaf=1, min_samples_split=2,\n",
       "                       min_weight_fraction_leaf=0.0, n_estimators=100,\n",
       "                       n_jobs=None, oob_score=False, random_state=None,\n",
       "                       verbose=0, warm_start=False)"
      ]
     },
     "execution_count": 41,
     "metadata": {},
     "output_type": "execute_result"
    }
   ],
   "source": [
    "clf.fit(x_train, y_train)"
   ]
  },
  {
   "cell_type": "code",
   "execution_count": 42,
   "metadata": {},
   "outputs": [
    {
     "data": {
      "text/plain": [
       "0.9666666666666667"
      ]
     },
     "execution_count": 42,
     "metadata": {},
     "output_type": "execute_result"
    }
   ],
   "source": [
    "clf_preds = clf.predict(x_test)\n",
    "clf.score(x_test, y_test)"
   ]
  },
  {
   "cell_type": "code",
   "execution_count": 43,
   "metadata": {},
   "outputs": [
    {
     "name": "stdout",
     "output_type": "stream",
     "text": [
      "              precision    recall  f1-score   support\n",
      "\n",
      "           0       1.00      1.00      1.00        14\n",
      "           1       1.00      0.88      0.93         8\n",
      "           2       0.89      1.00      0.94         8\n",
      "\n",
      "   micro avg       0.97      0.97      0.97        30\n",
      "   macro avg       0.96      0.96      0.96        30\n",
      "weighted avg       0.97      0.97      0.97        30\n",
      " samples avg       0.97      0.97      0.97        30\n",
      "\n"
     ]
    }
   ],
   "source": [
    "report = classification_report(y_test, clf_preds)\n",
    "print(report)"
   ]
  },
  {
   "cell_type": "markdown",
   "metadata": {},
   "source": [
    "### What did we learn?\n",
    "* keras is very useful instead of building a neural network from scratch"
   ]
  },
  {
   "cell_type": "markdown",
   "metadata": {},
   "source": [
    "### Let's add another Layer"
   ]
  },
  {
   "cell_type": "code",
   "execution_count": 44,
   "metadata": {},
   "outputs": [
    {
     "name": "stdout",
     "output_type": "stream",
     "text": [
      "_________________________________________________________________\n",
      "Layer (type)                 Output Shape              Param #   \n",
      "=================================================================\n",
      "dense_5 (Dense)              (None, 16)                80        \n",
      "_________________________________________________________________\n",
      "dense_6 (Dense)              (None, 16)                272       \n",
      "_________________________________________________________________\n",
      "dense_7 (Dense)              (None, 3)                 51        \n",
      "=================================================================\n",
      "Total params: 403\n",
      "Trainable params: 403\n",
      "Non-trainable params: 0\n",
      "_________________________________________________________________\n"
     ]
    }
   ],
   "source": [
    "### Let's build a new model and add another layer\n",
    "model_mlp = Sequential()\n",
    "\n",
    "\n",
    "# hidden layers\n",
    "model_mlp.add(Dense(input_dim=4, units=16, activation='relu'))\n",
    "model_mlp.add(Dense(units=16, activation='relu'))\n",
    "\n",
    "\n",
    "# classifier layer\n",
    "model_mlp.add(Dense(units=3, activation='softmax'))\n",
    "\n",
    "\n",
    "model_mlp.summary()"
   ]
  },
  {
   "cell_type": "code",
   "execution_count": 45,
   "metadata": {
    "scrolled": false
   },
   "outputs": [
    {
     "name": "stdout",
     "output_type": "stream",
     "text": [
      "Epoch 1/50\n",
      "120/120 [==============================] - 0s 2ms/step - loss: 1.2107\n",
      "Epoch 2/50\n",
      "120/120 [==============================] - 0s 128us/step - loss: 1.1529\n",
      "Epoch 3/50\n",
      "120/120 [==============================] - 0s 133us/step - loss: 1.0900\n",
      "Epoch 4/50\n",
      "120/120 [==============================] - 0s 128us/step - loss: 1.0229\n",
      "Epoch 5/50\n",
      "120/120 [==============================] - 0s 140us/step - loss: 0.9686\n",
      "Epoch 6/50\n",
      "120/120 [==============================] - 0s 139us/step - loss: 0.9195\n",
      "Epoch 7/50\n",
      "120/120 [==============================] - 0s 141us/step - loss: 0.8792\n",
      "Epoch 8/50\n",
      "120/120 [==============================] - 0s 183us/step - loss: 0.8420\n",
      "Epoch 9/50\n",
      "120/120 [==============================] - 0s 172us/step - loss: 0.8106\n",
      "Epoch 10/50\n",
      "120/120 [==============================] - 0s 231us/step - loss: 0.7826\n",
      "Epoch 11/50\n",
      "120/120 [==============================] - 0s 159us/step - loss: 0.7564\n",
      "Epoch 12/50\n",
      "120/120 [==============================] - 0s 151us/step - loss: 0.7330\n",
      "Epoch 13/50\n",
      "120/120 [==============================] - 0s 163us/step - loss: 0.7118\n",
      "Epoch 14/50\n",
      "120/120 [==============================] - 0s 166us/step - loss: 0.6919\n",
      "Epoch 15/50\n",
      "120/120 [==============================] - 0s 174us/step - loss: 0.6735\n",
      "Epoch 16/50\n",
      "120/120 [==============================] - 0s 157us/step - loss: 0.6558\n",
      "Epoch 17/50\n",
      "120/120 [==============================] - 0s 134us/step - loss: 0.6401\n",
      "Epoch 18/50\n",
      "120/120 [==============================] - 0s 122us/step - loss: 0.6249\n",
      "Epoch 19/50\n",
      "120/120 [==============================] - 0s 148us/step - loss: 0.6112\n",
      "Epoch 20/50\n",
      "120/120 [==============================] - 0s 158us/step - loss: 0.5979\n",
      "Epoch 21/50\n",
      "120/120 [==============================] - 0s 170us/step - loss: 0.5855\n",
      "Epoch 22/50\n",
      "120/120 [==============================] - 0s 150us/step - loss: 0.5740\n",
      "Epoch 23/50\n",
      "120/120 [==============================] - 0s 148us/step - loss: 0.5634\n",
      "Epoch 24/50\n",
      "120/120 [==============================] - 0s 140us/step - loss: 0.5527\n",
      "Epoch 25/50\n",
      "120/120 [==============================] - ETA: 0s - loss: 0.722 - 0s 196us/step - loss: 0.5429\n",
      "Epoch 26/50\n",
      "120/120 [==============================] - 0s 214us/step - loss: 0.5336\n",
      "Epoch 27/50\n",
      "120/120 [==============================] - 0s 192us/step - loss: 0.5247\n",
      "Epoch 28/50\n",
      "120/120 [==============================] - 0s 194us/step - loss: 0.5162\n",
      "Epoch 29/50\n",
      "120/120 [==============================] - 0s 211us/step - loss: 0.5082\n",
      "Epoch 30/50\n",
      "120/120 [==============================] - 0s 133us/step - loss: 0.5004\n",
      "Epoch 31/50\n",
      "120/120 [==============================] - 0s 161us/step - loss: 0.4929\n",
      "Epoch 32/50\n",
      "120/120 [==============================] - 0s 160us/step - loss: 0.4857\n",
      "Epoch 33/50\n",
      "120/120 [==============================] - 0s 138us/step - loss: 0.4790\n",
      "Epoch 34/50\n",
      "120/120 [==============================] - 0s 156us/step - loss: 0.4722\n",
      "Epoch 35/50\n",
      "120/120 [==============================] - 0s 153us/step - loss: 0.4659\n",
      "Epoch 36/50\n",
      "120/120 [==============================] - 0s 161us/step - loss: 0.4596\n",
      "Epoch 37/50\n",
      "120/120 [==============================] - 0s 177us/step - loss: 0.4535\n",
      "Epoch 38/50\n",
      "120/120 [==============================] - 0s 151us/step - loss: 0.4478\n",
      "Epoch 39/50\n",
      "120/120 [==============================] - 0s 162us/step - loss: 0.4418\n",
      "Epoch 40/50\n",
      "120/120 [==============================] - 0s 170us/step - loss: 0.4364\n",
      "Epoch 41/50\n",
      "120/120 [==============================] - 0s 113us/step - loss: 0.4309\n",
      "Epoch 42/50\n",
      "120/120 [==============================] - 0s 142us/step - loss: 0.4257\n",
      "Epoch 43/50\n",
      "120/120 [==============================] - 0s 202us/step - loss: 0.4206\n",
      "Epoch 44/50\n",
      "120/120 [==============================] - 0s 153us/step - loss: 0.4156\n",
      "Epoch 45/50\n",
      "120/120 [==============================] - 0s 149us/step - loss: 0.4106\n",
      "Epoch 46/50\n",
      "120/120 [==============================] - 0s 159us/step - loss: 0.4059\n",
      "Epoch 47/50\n",
      "120/120 [==============================] - 0s 159us/step - loss: 0.4013\n",
      "Epoch 48/50\n",
      "120/120 [==============================] - 0s 141us/step - loss: 0.3965\n",
      "Epoch 49/50\n",
      "120/120 [==============================] - 0s 169us/step - loss: 0.3924\n",
      "Epoch 50/50\n",
      "120/120 [==============================] - 0s 118us/step - loss: 0.3877\n"
     ]
    },
    {
     "data": {
      "image/png": "[encoded data removed]",
      "text/plain": [
       "<Figure size 936x576 with 1 Axes>"
      ]
     },
     "metadata": {
      "needs_background": "light"
     },
     "output_type": "display_data"
    }
   ],
   "source": [
    "model_mlp.compile(loss=keras.losses.categorical_crossentropy, \n",
    "                  optimizer=optimizers.SGD(lr=0.001, momentum=0.9, nesterov=True))\n",
    "\n",
    "history_mlp = model_mlp.fit(x_train, y_train, epochs=50, batch_size=15, verbose=1)\n",
    "\n",
    "plot_history(history_mlp)"
   ]
  },
  {
   "cell_type": "code",
   "execution_count": 46,
   "metadata": {},
   "outputs": [
    {
     "name": "stdout",
     "output_type": "stream",
     "text": [
      "\r",
      "30/30 [==============================] - 0s 2ms/step\n"
     ]
    },
    {
     "data": {
      "text/plain": [
       "0.3464241027832031"
      ]
     },
     "execution_count": 46,
     "metadata": {},
     "output_type": "execute_result"
    }
   ],
   "source": [
    "loss_and_metrics = model_mlp.evaluate(x_test, y_test)\n",
    "\n",
    "loss_and_metrics"
   ]
  },
  {
   "cell_type": "code",
   "execution_count": 47,
   "metadata": {},
   "outputs": [
    {
     "data": {
      "text/plain": [
       "array([0.86666667])"
      ]
     },
     "execution_count": 47,
     "metadata": {},
     "output_type": "execute_result"
    }
   ],
   "source": [
    "probs = model_mlp.predict(x_test)\n",
    "predictions = np.argmax(probs, axis=1)\n",
    "np.sum(predictions  == np.argmax(y_test, axis=1)) / predictions.shape"
   ]
  },
  {
   "cell_type": "code",
   "execution_count": 48,
   "metadata": {},
   "outputs": [
    {
     "name": "stdout",
     "output_type": "stream",
     "text": [
      "              precision    recall  f1-score   support\n",
      "\n",
      "           0       1.00      1.00      1.00        14\n",
      "           1       1.00      0.50      0.67         8\n",
      "\n",
      "   micro avg       1.00      0.82      0.90        22\n",
      "   macro avg       1.00      0.75      0.83        22\n",
      "weighted avg       1.00      0.82      0.88        22\n",
      "\n"
     ]
    }
   ],
   "source": [
    "report = classification_report(y_test.argmax(axis=1), predictions, labels=[0, 1])\n",
    "print(report)"
   ]
  },
  {
   "cell_type": "markdown",
   "metadata": {},
   "source": [
    "#### Add another layer and plot the loss"
   ]
  },
  {
   "cell_type": "code",
   "execution_count": 54,
   "metadata": {},
   "outputs": [
    {
     "name": "stdout",
     "output_type": "stream",
     "text": [
      "_________________________________________________________________\n",
      "Layer (type)                 Output Shape              Param #   \n",
      "=================================================================\n",
      "dense_16 (Dense)             (None, 16)                80        \n",
      "_________________________________________________________________\n",
      "dense_17 (Dense)             (None, 24)                408       \n",
      "_________________________________________________________________\n",
      "dense_18 (Dense)             (None, 32)                800       \n",
      "_________________________________________________________________\n",
      "dense_19 (Dense)             (None, 3)                 99        \n",
      "=================================================================\n",
      "Total params: 1,387\n",
      "Trainable params: 1,387\n",
      "Non-trainable params: 0\n",
      "_________________________________________________________________\n"
     ]
    },
    {
     "data": {
      "text/plain": [
       "None"
      ]
     },
     "metadata": {},
     "output_type": "display_data"
    }
   ],
   "source": [
    "# Build your model\n",
    "model_mlp = Sequential()\n",
    "\n",
    "\n",
    "# hidden layers\n",
    "model_mlp.add(Dense(input_dim=4, units=16, activation='relu'))\n",
    "model_mlp.add(Dense(units=24, activation='relu'))\n",
    "model_mlp.add(Dense(units = 32, activation = 'relu'))\n",
    "\n",
    "# classifier layer\n",
    "model_mlp.add(Dense(units=3, activation='softmax'))\n",
    "\n",
    "\n",
    "display(model_mlp.summary())\n",
    "\n",
    "# Compile it\n",
    "\n",
    "\n",
    "# fit your model using 100 epochs\n"
   ]
  },
  {
   "cell_type": "code",
   "execution_count": 55,
   "metadata": {
    "scrolled": false
   },
   "outputs": [
    {
     "name": "stdout",
     "output_type": "stream",
     "text": [
      "Epoch 1/50\n",
      "120/120 [==============================] - 0s 3ms/step - loss: 1.0949\n",
      "Epoch 2/50\n",
      "120/120 [==============================] - 0s 92us/step - loss: 1.0841\n",
      "Epoch 3/50\n",
      "120/120 [==============================] - 0s 126us/step - loss: 1.0692\n",
      "Epoch 4/50\n",
      "120/120 [==============================] - 0s 136us/step - loss: 1.0528\n",
      "Epoch 5/50\n",
      "120/120 [==============================] - 0s 169us/step - loss: 1.0358\n",
      "Epoch 6/50\n",
      "120/120 [==============================] - 0s 170us/step - loss: 1.0194\n",
      "Epoch 7/50\n",
      "120/120 [==============================] - 0s 228us/step - loss: 1.0030\n",
      "Epoch 8/50\n",
      "120/120 [==============================] - 0s 131us/step - loss: 0.9868\n",
      "Epoch 9/50\n",
      "120/120 [==============================] - 0s 236us/step - loss: 0.9707\n",
      "Epoch 10/50\n",
      "120/120 [==============================] - 0s 150us/step - loss: 0.9546\n",
      "Epoch 11/50\n",
      "120/120 [==============================] - 0s 135us/step - loss: 0.9384\n",
      "Epoch 12/50\n",
      "120/120 [==============================] - 0s 198us/step - loss: 0.9221\n",
      "Epoch 13/50\n",
      "120/120 [==============================] - 0s 114us/step - loss: 0.9051\n",
      "Epoch 14/50\n",
      "120/120 [==============================] - 0s 214us/step - loss: 0.8888\n",
      "Epoch 15/50\n",
      "120/120 [==============================] - 0s 137us/step - loss: 0.8726\n",
      "Epoch 16/50\n",
      "120/120 [==============================] - 0s 153us/step - loss: 0.8569\n",
      "Epoch 17/50\n",
      "120/120 [==============================] - 0s 180us/step - loss: 0.8395\n",
      "Epoch 18/50\n",
      "120/120 [==============================] - 0s 133us/step - loss: 0.8232\n",
      "Epoch 19/50\n",
      "120/120 [==============================] - 0s 137us/step - loss: 0.8063\n",
      "Epoch 20/50\n",
      "120/120 [==============================] - 0s 142us/step - loss: 0.7894\n",
      "Epoch 21/50\n",
      "120/120 [==============================] - 0s 149us/step - loss: 0.7721\n",
      "Epoch 22/50\n",
      "120/120 [==============================] - 0s 208us/step - loss: 0.7553\n",
      "Epoch 23/50\n",
      "120/120 [==============================] - 0s 134us/step - loss: 0.7386\n",
      "Epoch 24/50\n",
      "120/120 [==============================] - 0s 154us/step - loss: 0.7208\n",
      "Epoch 25/50\n",
      "120/120 [==============================] - 0s 165us/step - loss: 0.7041\n",
      "Epoch 26/50\n",
      "120/120 [==============================] - 0s 154us/step - loss: 0.6871\n",
      "Epoch 27/50\n",
      "120/120 [==============================] - 0s 137us/step - loss: 0.6704\n",
      "Epoch 28/50\n",
      "120/120 [==============================] - 0s 191us/step - loss: 0.6532\n",
      "Epoch 29/50\n",
      "120/120 [==============================] - 0s 139us/step - loss: 0.6364\n",
      "Epoch 30/50\n",
      "120/120 [==============================] - 0s 147us/step - loss: 0.6192\n",
      "Epoch 31/50\n",
      "120/120 [==============================] - 0s 174us/step - loss: 0.6023\n",
      "Epoch 32/50\n",
      "120/120 [==============================] - 0s 170us/step - loss: 0.5859\n",
      "Epoch 33/50\n",
      "120/120 [==============================] - 0s 142us/step - loss: 0.5687\n",
      "Epoch 34/50\n",
      "120/120 [==============================] - 0s 169us/step - loss: 0.5523\n",
      "Epoch 35/50\n",
      "120/120 [==============================] - 0s 115us/step - loss: 0.5368\n",
      "Epoch 36/50\n",
      "120/120 [==============================] - 0s 147us/step - loss: 0.5212\n",
      "Epoch 37/50\n",
      "120/120 [==============================] - 0s 149us/step - loss: 0.5054\n",
      "Epoch 38/50\n",
      "120/120 [==============================] - 0s 155us/step - loss: 0.4909\n",
      "Epoch 39/50\n",
      "120/120 [==============================] - 0s 166us/step - loss: 0.4773\n",
      "Epoch 40/50\n",
      "120/120 [==============================] - 0s 141us/step - loss: 0.4629\n",
      "Epoch 41/50\n",
      "120/120 [==============================] - 0s 138us/step - loss: 0.4508\n",
      "Epoch 42/50\n",
      "120/120 [==============================] - 0s 168us/step - loss: 0.4385\n",
      "Epoch 43/50\n",
      "120/120 [==============================] - 0s 122us/step - loss: 0.4272\n",
      "Epoch 44/50\n",
      "120/120 [==============================] - 0s 179us/step - loss: 0.4164\n",
      "Epoch 45/50\n",
      "120/120 [==============================] - 0s 159us/step - loss: 0.4062\n",
      "Epoch 46/50\n",
      "120/120 [==============================] - 0s 137us/step - loss: 0.3965\n",
      "Epoch 47/50\n",
      "120/120 [==============================] - 0s 131us/step - loss: 0.3879\n",
      "Epoch 48/50\n",
      "120/120 [==============================] - 0s 190us/step - loss: 0.3787\n",
      "Epoch 49/50\n",
      "120/120 [==============================] - 0s 143us/step - loss: 0.3706\n",
      "Epoch 50/50\n",
      "120/120 [==============================] - 0s 178us/step - loss: 0.3626\n"
     ]
    },
    {
     "data": {
      "image/png": "[encoded data removed]",
      "text/plain": [
       "<Figure size 936x576 with 1 Axes>"
      ]
     },
     "metadata": {
      "needs_background": "light"
     },
     "output_type": "display_data"
    }
   ],
   "source": [
    "model_mlp.compile(loss=keras.losses.categorical_crossentropy, \n",
    "                  optimizer=optimizers.SGD(lr=0.001, momentum=0.9, nesterov=True))\n",
    "\n",
    "history_mlp = model_mlp.fit(x_train, y_train, epochs=50, batch_size=15, verbose=1)\n",
    "\n",
    "plot_history(history_mlp)"
   ]
  },
  {
   "cell_type": "code",
   "execution_count": 49,
   "metadata": {},
   "outputs": [
    {
     "name": "stdout",
     "output_type": "stream",
     "text": [
      "7608/7608 [==============================] - 0s 22us/step\n"
     ]
    },
    {
     "data": {
      "text/plain": [
       "0.32985218610422595"
      ]
     },
     "execution_count": 49,
     "metadata": {},
     "output_type": "execute_result"
    }
   ],
   "source": [
    "# Evaluate your model\n",
    "model_mlp.evaluate(x_test, y_test)"
   ]
  },
  {
   "cell_type": "code",
   "execution_count": 56,
   "metadata": {},
   "outputs": [
    {
     "data": {
      "image/png": "[encoded data removed]",
      "text/plain": [
       "<Figure size 936x576 with 1 Axes>"
      ]
     },
     "metadata": {
      "needs_background": "light"
     },
     "output_type": "display_data"
    }
   ],
   "source": [
    "# Plot your loss\n",
    "plot_history(history_mlp)"
   ]
  },
  {
   "cell_type": "code",
   "execution_count": 57,
   "metadata": {},
   "outputs": [
    {
     "name": "stdout",
     "output_type": "stream",
     "text": [
      "_________________________________________________________________\n",
      "Layer (type)                 Output Shape              Param #   \n",
      "=================================================================\n",
      "dense_20 (Dense)             (None, 16)                80        \n",
      "_________________________________________________________________\n",
      "dense_21 (Dense)             (None, 16)                272       \n",
      "_________________________________________________________________\n",
      "dense_22 (Dense)             (None, 3)                 51        \n",
      "=================================================================\n",
      "Total params: 403\n",
      "Trainable params: 403\n",
      "Non-trainable params: 0\n",
      "_________________________________________________________________\n"
     ]
    }
   ],
   "source": [
    "### Let's make it better\n",
    "### Let's build a new model with 2 layers but a different optimizer\n",
    "### User ADAM optimization\n",
    "model_mlp = Sequential()\n",
    "\n",
    "\n",
    "# hidden layers\n",
    "model_mlp.add(Dense(input_dim=4, units=16, activation='relu'))\n",
    "model_mlp.add(Dense(units=16, activation='relu'))\n",
    "\n",
    "\n",
    "# classifier layer\n",
    "model_mlp.add(Dense(units=3, activation='softmax'))\n",
    "\n",
    "\n",
    "model_mlp.summary()"
   ]
  },
  {
   "cell_type": "code",
   "execution_count": 58,
   "metadata": {},
   "outputs": [],
   "source": [
    "model_mlp.compile(loss='categorical_crossentropy', optimizer=optimizers.Adam())"
   ]
  },
  {
   "cell_type": "code",
   "execution_count": 59,
   "metadata": {},
   "outputs": [
    {
     "name": "stdout",
     "output_type": "stream",
     "text": [
      "Epoch 1/50\n",
      "120/120 [==============================] - 1s 4ms/step - loss: 1.1778\n",
      "Epoch 2/50\n",
      "120/120 [==============================] - 0s 167us/step - loss: 1.1070\n",
      "Epoch 3/50\n",
      "120/120 [==============================] - 0s 160us/step - loss: 1.0424\n",
      "Epoch 4/50\n",
      "120/120 [==============================] - 0s 155us/step - loss: 0.9834\n",
      "Epoch 5/50\n",
      "120/120 [==============================] - 0s 154us/step - loss: 0.9309\n",
      "Epoch 6/50\n",
      "120/120 [==============================] - 0s 239us/step - loss: 0.8806\n",
      "Epoch 7/50\n",
      "120/120 [==============================] - 0s 214us/step - loss: 0.8338\n",
      "Epoch 8/50\n",
      "120/120 [==============================] - 0s 233us/step - loss: 0.7861\n",
      "Epoch 9/50\n",
      "120/120 [==============================] - 0s 138us/step - loss: 0.7389\n",
      "Epoch 10/50\n",
      "120/120 [==============================] - 0s 184us/step - loss: 0.6925\n",
      "Epoch 11/50\n",
      "120/120 [==============================] - 0s 223us/step - loss: 0.6466\n",
      "Epoch 12/50\n",
      "120/120 [==============================] - 0s 167us/step - loss: 0.6042\n",
      "Epoch 13/50\n",
      "120/120 [==============================] - 0s 176us/step - loss: 0.5640\n",
      "Epoch 14/50\n",
      "120/120 [==============================] - 0s 216us/step - loss: 0.5273\n",
      "Epoch 15/50\n",
      "120/120 [==============================] - 0s 146us/step - loss: 0.4968\n",
      "Epoch 16/50\n",
      "120/120 [==============================] - 0s 183us/step - loss: 0.4680\n",
      "Epoch 17/50\n",
      "120/120 [==============================] - 0s 144us/step - loss: 0.4426\n",
      "Epoch 18/50\n",
      "120/120 [==============================] - 0s 194us/step - loss: 0.4210\n",
      "Epoch 19/50\n",
      "120/120 [==============================] - 0s 136us/step - loss: 0.4016\n",
      "Epoch 20/50\n",
      "120/120 [==============================] - 0s 140us/step - loss: 0.3844\n",
      "Epoch 21/50\n",
      "120/120 [==============================] - 0s 136us/step - loss: 0.3689\n",
      "Epoch 22/50\n",
      "120/120 [==============================] - 0s 134us/step - loss: 0.3555\n",
      "Epoch 23/50\n",
      "120/120 [==============================] - 0s 138us/step - loss: 0.3423\n",
      "Epoch 24/50\n",
      "120/120 [==============================] - 0s 169us/step - loss: 0.3314\n",
      "Epoch 25/50\n",
      "120/120 [==============================] - 0s 131us/step - loss: 0.3211\n",
      "Epoch 26/50\n",
      "120/120 [==============================] - 0s 162us/step - loss: 0.3120\n",
      "Epoch 27/50\n",
      "120/120 [==============================] - 0s 148us/step - loss: 0.3028\n",
      "Epoch 28/50\n",
      "120/120 [==============================] - 0s 175us/step - loss: 0.2948\n",
      "Epoch 29/50\n",
      "120/120 [==============================] - 0s 167us/step - loss: 0.2866\n",
      "Epoch 30/50\n",
      "120/120 [==============================] - 0s 184us/step - loss: 0.2792\n",
      "Epoch 31/50\n",
      "120/120 [==============================] - 0s 115us/step - loss: 0.2723\n",
      "Epoch 32/50\n",
      "120/120 [==============================] - 0s 155us/step - loss: 0.2654\n",
      "Epoch 33/50\n",
      "120/120 [==============================] - 0s 159us/step - loss: 0.2591\n",
      "Epoch 34/50\n",
      "120/120 [==============================] - 0s 163us/step - loss: 0.2529\n",
      "Epoch 35/50\n",
      "120/120 [==============================] - 0s 152us/step - loss: 0.2465\n",
      "Epoch 36/50\n",
      "120/120 [==============================] - 0s 177us/step - loss: 0.2414\n",
      "Epoch 37/50\n",
      "120/120 [==============================] - 0s 160us/step - loss: 0.2350\n",
      "Epoch 38/50\n",
      "120/120 [==============================] - 0s 131us/step - loss: 0.2298\n",
      "Epoch 39/50\n",
      "120/120 [==============================] - 0s 132us/step - loss: 0.2238\n",
      "Epoch 40/50\n",
      "120/120 [==============================] - 0s 216us/step - loss: 0.2185\n",
      "Epoch 41/50\n",
      "120/120 [==============================] - 0s 169us/step - loss: 0.2138\n",
      "Epoch 42/50\n",
      "120/120 [==============================] - 0s 137us/step - loss: 0.2086\n",
      "Epoch 43/50\n",
      "120/120 [==============================] - 0s 159us/step - loss: 0.2041\n",
      "Epoch 44/50\n",
      "120/120 [==============================] - 0s 160us/step - loss: 0.1996\n",
      "Epoch 45/50\n",
      "120/120 [==============================] - 0s 140us/step - loss: 0.1945\n",
      "Epoch 46/50\n",
      "120/120 [==============================] - 0s 145us/step - loss: 0.1899\n",
      "Epoch 47/50\n",
      "120/120 [==============================] - 0s 149us/step - loss: 0.1857\n",
      "Epoch 48/50\n",
      "120/120 [==============================] - 0s 184us/step - loss: 0.1810\n",
      "Epoch 49/50\n",
      "120/120 [==============================] - 0s 192us/step - loss: 0.1771\n",
      "Epoch 50/50\n",
      "120/120 [==============================] - 0s 126us/step - loss: 0.1730\n"
     ]
    }
   ],
   "source": [
    "history_mlp = model_mlp.fit(x_train, y_train, batch_size=15, epochs=50, verbose=1)"
   ]
  },
  {
   "cell_type": "code",
   "execution_count": 60,
   "metadata": {},
   "outputs": [
    {
     "data": {
      "image/png": "[encoded data removed]",
      "text/plain": [
       "<Figure size 936x576 with 1 Axes>"
      ]
     },
     "metadata": {
      "needs_background": "light"
     },
     "output_type": "display_data"
    }
   ],
   "source": [
    "plot_history(history_mlp)"
   ]
  },
  {
   "cell_type": "code",
   "execution_count": 61,
   "metadata": {},
   "outputs": [
    {
     "name": "stdout",
     "output_type": "stream",
     "text": [
      "\r",
      "30/30 [==============================] - 0s 4ms/step\n"
     ]
    },
    {
     "data": {
      "text/plain": [
       "0.15756413340568542"
      ]
     },
     "execution_count": 61,
     "metadata": {},
     "output_type": "execute_result"
    }
   ],
   "source": [
    "model_mlp.evaluate(x_test, y_test)"
   ]
  },
  {
   "cell_type": "code",
   "execution_count": 62,
   "metadata": {},
   "outputs": [
    {
     "data": {
      "text/plain": [
       "array([0.93333333])"
      ]
     },
     "execution_count": 62,
     "metadata": {},
     "output_type": "execute_result"
    }
   ],
   "source": [
    "probs = model_mlp.predict(x_test)\n",
    "predictions = np.argmax(probs, axis=1)\n",
    "np.sum(predictions  == np.argmax(y_test, axis=1)) / predictions.shape"
   ]
  },
  {
   "cell_type": "code",
   "execution_count": 63,
   "metadata": {},
   "outputs": [
    {
     "name": "stdout",
     "output_type": "stream",
     "text": [
      "              precision    recall  f1-score   support\n",
      "\n",
      "           0       1.00      1.00      1.00        14\n",
      "           1       1.00      0.75      0.86         8\n",
      "           2       0.80      1.00      0.89         8\n",
      "\n",
      "    accuracy                           0.93        30\n",
      "   macro avg       0.93      0.92      0.92        30\n",
      "weighted avg       0.95      0.93      0.93        30\n",
      "\n"
     ]
    }
   ],
   "source": [
    "print(classification_report(y_test.argmax(axis=1), predictions))"
   ]
  },
  {
   "cell_type": "markdown",
   "metadata": {},
   "source": [
    "### What did we learn?\n",
    "- Use ADAM optimization\n",
    "- Best practices for Deep Learning\n",
    "    - ADAM/ReLu/Softmax\n",
    "    - Onehotencode Labels"
   ]
  },
  {
   "cell_type": "code",
   "execution_count": null,
   "metadata": {},
   "outputs": [],
   "source": []
  }
 ],
 "metadata": {
  "kernelspec": {
   "display_name": "Python [conda env:flatiron-env] *",
   "language": "python",
   "name": "conda-env-flatiron-env-py"
  },
  "language_info": {
   "codemirror_mode": {
    "name": "ipython",
    "version": 3
   },
   "file_extension": ".py",
   "mimetype": "text/x-python",
   "name": "python",
   "nbconvert_exporter": "python",
   "pygments_lexer": "ipython3",
   "version": "3.6.0"
  },
  "toc": {
   "base_numbering": 1,
   "nav_menu": {},
   "number_sections": true,
   "sideBar": true,
   "skip_h1_title": false,
   "title_cell": "Table of Contents",
   "title_sidebar": "Contents",
   "toc_cell": false,
   "toc_position": {},
   "toc_section_display": true,
   "toc_window_display": false
  },
  "varInspector": {
   "cols": {
    "lenName": 16,
    "lenType": 16,
    "lenVar": 40
   },
   "kernels_config": {
    "python": {
     "delete_cmd_postfix": "",
     "delete_cmd_prefix": "del ",
     "library": "var_list.py",
     "varRefreshCmd": "print(var_dic_list())"
    },
    "r": {
     "delete_cmd_postfix": ") ",
     "delete_cmd_prefix": "rm(",
     "library": "var_list.r",
     "varRefreshCmd": "cat(var_dic_list()) "
    }
   },
   "types_to_exclude": [
    "module",
    "function",
    "builtin_function_or_method",
    "instance",
    "_Feature"
   ],
   "window_display": false
  }
 },
 "nbformat": 4,
 "nbformat_minor": 2
}
